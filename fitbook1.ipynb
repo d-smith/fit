{
 "cells": [
  {
   "cell_type": "code",
   "execution_count": null,
   "metadata": {
    "collapsed": true
   },
   "outputs": [],
   "source": [
    "from fitparse import FitFile"
   ]
  },
  {
   "cell_type": "code",
   "execution_count": null,
   "metadata": {
    "collapsed": true
   },
   "outputs": [],
   "source": [
    "fitfile = FitFile('./2017-11-03-15-58-49.fit')"
   ]
  },
  {
   "cell_type": "code",
   "execution_count": null,
   "metadata": {
    "collapsed": true
   },
   "outputs": [],
   "source": [
    "import datetime\n",
    "\n",
    "the_epoch = datetime.datetime.utcfromtimestamp(0)    \n",
    "\n",
    "def timestamp_to_epoch(dt):\n",
    "    return int((dt - the_epoch).total_seconds())\n"
   ]
  },
  {
   "cell_type": "code",
   "execution_count": null,
   "metadata": {
    "collapsed": false
   },
   "outputs": [],
   "source": [
    "# Get all data messages that are of type record\n",
    "\n",
    "hrs = []\n",
    "tss = []\n",
    "raw_tss = []\n",
    "\n",
    "rec_count = 0\n",
    "baseline_epoch = 0\n",
    "baseline_ts = datetime.datetime.now() \n",
    "for record in fitfile.get_messages('record'):\n",
    "    rec_count += 1\n",
    "#    if rec_count > 5:\n",
    "#        break\n",
    "    print 'record {}'.format(rec_count)\n",
    "\n",
    "    # Go through all the data entries in this record\n",
    "    current_epoch = -1\n",
    "    current_hr = -1\n",
    "    raw_ts = datetime.datetime.now() \n",
    "    \n",
    "    for record_data in record:\n",
    "        \n",
    "        if rec_count == 1 and record_data.name == 'timestamp':\n",
    "            print 'setting baseline epoch from {}'.format(record_data.value)\n",
    "            baseline_epoch = timestamp_to_epoch(record_data.value)\n",
    "            baseline_ts = record_data.value\n",
    "#            print 'baseline epoch be {}'.format(baseline_epoch)\n",
    "\n",
    "        # Print the records name and value (and units if it has any)\n",
    "#        if record_data.units:\n",
    "#            print \" * %s: %s %s\" % (\n",
    "#                record_data.name, record_data.value, record_data.units,\n",
    "#            )\n",
    "#        else:\n",
    "#            print \" * %s: %s\" % (record_data.name, record_data.value)\n",
    "\n",
    "        \n",
    "            \n",
    "        if record_data.name == 'heart_rate':\n",
    "            current_hr = record_data.value\n",
    "                 \n",
    "        if record_data.name == 'timestamp':    \n",
    "            current_epoch = timestamp_to_epoch(record_data.value) - baseline_epoch\n",
    "#            raw_ts = record_data.value - baseline_ts\n",
    "            raw_ts = record_data.value\n",
    "#            print 'current epoch {}'.format(current_epoch)\n",
    "            \n",
    "        if current_epoch != -1 and current_hr != -1:\n",
    "#            print 'i has a tuple ({},{})'.format(current_epoch, current_hr)\n",
    "            tss.append(current_epoch)\n",
    "            hrs.append(current_hr)\n",
    "            raw_tss.append(raw_ts)\n",
    "    print\n",
    "\n",
    "print tss\n",
    "print hrs\n",
    "print raw_tss"
   ]
  },
  {
   "cell_type": "code",
   "execution_count": null,
   "metadata": {
    "collapsed": false
   },
   "outputs": [],
   "source": [
    "# Get all data messages that are of type record\n",
    "\n",
    "hrs = []\n",
    "tss = []\n",
    "raw_tss = []\n",
    "power = []\n",
    "\n",
    "rec_count = 0\n",
    "baseline_epoch = 0\n",
    "baseline_ts = datetime.datetime.now() \n",
    "normalized_basetime = datetime.datetime.strptime('24052010', '%d%m%Y')\n",
    "for record in fitfile.get_messages('record'):\n",
    "    rec_count += 1\n",
    "#    if rec_count > 5:\n",
    "#        break\n",
    "    print 'record {}'.format(rec_count)\n",
    "\n",
    "    # Go through all the data entries in this record\n",
    "    current_epoch = -1\n",
    "    current_hr = -1\n",
    "    current_power = -1\n",
    "    raw_ts = datetime.datetime.now() \n",
    "    \n",
    "    for record_data in record:\n",
    "        \n",
    "        if rec_count == 1 and record_data.name == 'timestamp':\n",
    "            print 'setting baseline epoch from {}'.format(record_data.value)\n",
    "            baseline_epoch = timestamp_to_epoch(record_data.value)\n",
    "            baseline_ts = record_data.value\n",
    "#            print 'baseline epoch be {}'.format(baseline_epoch)\n",
    "\n",
    "        # Print the records name and value (and units if it has any)\n",
    "#        if record_data.units:\n",
    "#            print \" * %s: %s %s\" % (\n",
    "#                record_data.name, record_data.value, record_data.units,\n",
    "#            )\n",
    "#        else:\n",
    "#            print \" * %s: %s\" % (record_data.name, record_data.value)\n",
    "\n",
    "        if record_data.name == 'power':\n",
    "            current_power = record_data.value\n",
    "            \n",
    "        if record_data.name == 'heart_rate':\n",
    "            current_hr = record_data.value\n",
    "                 \n",
    "        if record_data.name == 'timestamp':    \n",
    "            current_epoch = timestamp_to_epoch(record_data.value) - baseline_epoch\n",
    "            raw_ts = normalized_basetime + (record_data.value - baseline_ts)\n",
    "#            raw_ts = record_data.value\n",
    "#            print 'current epoch {}'.format(current_epoch)\n",
    "            \n",
    "        if current_epoch != -1 and current_hr != -1:\n",
    "#            print 'i has a tuple ({},{})'.format(current_epoch, current_hr)\n",
    "            tss.append(current_epoch)\n",
    "            hrs.append(current_hr)\n",
    "            raw_tss.append(raw_ts)\n",
    "            power.append(current_power)\n",
    "    print\n",
    "\n",
    "print tss\n",
    "print hrs\n",
    "print raw_tss"
   ]
  },
  {
   "cell_type": "code",
   "execution_count": null,
   "metadata": {
    "collapsed": true
   },
   "outputs": [],
   "source": [
    "# See http://matplotlib.org/api/_as_gen/matplotlib.pyplot.plot.html#matplotlib.pyplot.plot\n",
    "import matplotlib.pyplot as plt\n",
    "%matplotlib inline"
   ]
  },
  {
   "cell_type": "code",
   "execution_count": null,
   "metadata": {
    "collapsed": false
   },
   "outputs": [],
   "source": [
    "plt.figure(figsize=(15, 8))\n",
    "plt.title('heart rate')\n",
    "plt.ylabel(\"BPM\")\n",
    "\n",
    "plt.plot(tss,hrs,tss, power)"
   ]
  },
  {
   "cell_type": "code",
   "execution_count": null,
   "metadata": {
    "collapsed": false
   },
   "outputs": [],
   "source": [
    "#import matplotlib.dates\n",
    "#times = matplotlib.dates.date2num(raw_tss)\n",
    "import matplotlib.dates as mdates\n",
    "\n",
    "with plt.xkcd():\n",
    "\n",
    "    plt.figure(figsize=(15, 8))\n",
    "    plt.title('heart rate')\n",
    "    plt.ylabel(\"BPM\")\n",
    "    myFmt = mdates.DateFormatter('%H:%M')\n",
    "    plt.gca().xaxis.set_major_formatter(myFmt)\n",
    "    plt.plot(raw_tss,hrs)\n",
    "    \n",
    "plt.show()"
   ]
  },
  {
   "cell_type": "code",
   "execution_count": null,
   "metadata": {
    "collapsed": false
   },
   "outputs": [],
   "source": [
    "import matplotlib.dates as mdates\n",
    "\n",
    "plt.figure(figsize=(15, 8))\n",
    "#plt.title('heart rate')\n",
    "#plt.ylabel(\"BPM\")\n",
    "myFmt = mdates.DateFormatter('%H:%M')\n",
    "plt.gca().xaxis.set_major_formatter(myFmt)\n",
    "#plt.plot(raw_tss,hrs)\n",
    "\n",
    "plt.figure(1)\n",
    "plt.subplot(211)\n",
    "plt.title('heart rate (bpm)')\n",
    "plt.plot(tss,hrs)\n",
    "\n",
    "plt.subplot(212)\n",
    "plt.plot(tss,power)\n",
    "plt.title('power (watts)')\n",
    "plt.show()"
   ]
  },
  {
   "cell_type": "code",
   "execution_count": null,
   "metadata": {
    "collapsed": false
   },
   "outputs": [],
   "source": [
    "import time\n",
    "\n",
    "date_time = '2017-11-03 22:58:49'\n",
    "print type(date_time)\n",
    "pattern = '%Y-%m-%d %H:%M:%S'\n",
    "epoch = int(time.mktime(time.strptime(date_time, pattern)))\n",
    "print epoch"
   ]
  },
  {
   "cell_type": "code",
   "execution_count": null,
   "metadata": {
    "collapsed": true
   },
   "outputs": [],
   "source": [
    "import datetime\n",
    "\n",
    "epoch = datetime.datetime.utcfromtimestamp(0)\n",
    "\n",
    "def unix_time_millis(dt):\n",
    "    return (dt - epoch).total_seconds() * 1000"
   ]
  },
  {
   "cell_type": "code",
   "execution_count": null,
   "metadata": {
    "collapsed": false
   },
   "outputs": [],
   "source": [
    "print unix_time_millis(datetime.datetime.now())"
   ]
  },
  {
   "cell_type": "code",
   "execution_count": null,
   "metadata": {
    "collapsed": false
   },
   "outputs": [],
   "source": [
    "now = datetime.datetime.now()\n",
    "print now"
   ]
  },
  {
   "cell_type": "code",
   "execution_count": null,
   "metadata": {
    "collapsed": true
   },
   "outputs": [],
   "source": [
    "next_now = datetime.datetime.now()"
   ]
  },
  {
   "cell_type": "code",
   "execution_count": null,
   "metadata": {
    "collapsed": false
   },
   "outputs": [],
   "source": [
    "print next_now"
   ]
  },
  {
   "cell_type": "code",
   "execution_count": null,
   "metadata": {
    "collapsed": false
   },
   "outputs": [],
   "source": [
    "print next_now - now"
   ]
  },
  {
   "cell_type": "code",
   "execution_count": null,
   "metadata": {
    "collapsed": false
   },
   "outputs": [],
   "source": [
    "import datetime\n",
    "normalized = datetime.datetime.strptime('24052010', '%d%m%Y')\n",
    "print normalized"
   ]
  },
  {
   "cell_type": "code",
   "execution_count": null,
   "metadata": {
    "collapsed": false
   },
   "outputs": [],
   "source": [
    "normalized + (next_now - now)"
   ]
  },
  {
   "cell_type": "code",
   "execution_count": null,
   "metadata": {
    "collapsed": false
   },
   "outputs": [],
   "source": [
    "type(now- now)"
   ]
  },
  {
   "cell_type": "code",
   "execution_count": null,
   "metadata": {
    "collapsed": false
   },
   "outputs": [],
   "source": [
    "datetime.datetime(now - now)"
   ]
  },
  {
   "cell_type": "code",
   "execution_count": null,
   "metadata": {
    "collapsed": false
   },
   "outputs": [],
   "source": [
    "datetime.datetime.now() + datetime.timedelta(hours=1)"
   ]
  },
  {
   "cell_type": "code",
   "execution_count": null,
   "metadata": {
    "collapsed": false
   },
   "outputs": [],
   "source": [
    "import matplotlib\n",
    "import matplotlib.pyplot as plt\n",
    "import numpy as np\n",
    "import datetime\n",
    " \n",
    "# create data \n",
    "customdate = datetime.datetime(2016, 1, 1, 13, 30)\n",
    "y = [ 2,4,6,8,10,12,14,16,18,20 ]\n",
    "x = [customdate + datetime.timedelta(hours=i) for i in range(len(y))]\n",
    " \n",
    "# plot\n",
    "plt.plot(x,y)\n",
    "plt.gcf().autofmt_xdate()\n",
    "plt.show()\n"
   ]
  },
  {
   "cell_type": "code",
   "execution_count": null,
   "metadata": {
    "collapsed": true
   },
   "outputs": [],
   "source": []
  }
 ],
 "metadata": {
  "kernelspec": {
   "display_name": "Python 2",
   "language": "python",
   "name": "python2"
  },
  "language_info": {
   "codemirror_mode": {
    "name": "ipython",
    "version": 2
   },
   "file_extension": ".py",
   "mimetype": "text/x-python",
   "name": "python",
   "nbconvert_exporter": "python",
   "pygments_lexer": "ipython2",
   "version": "2.7.12"
  }
 },
 "nbformat": 4,
 "nbformat_minor": 0
}
