{
 "cells": [
  {
   "cell_type": "code",
   "execution_count": null,
   "metadata": {
    "collapsed": true
   },
   "outputs": [],
   "source": [
    "from fitparse import FitFile"
   ]
  },
  {
   "cell_type": "code",
   "execution_count": null,
   "metadata": {
    "collapsed": true
   },
   "outputs": [],
   "source": [
    "fitfile = FitFile('./2017-11-03-15-58-49.fit')"
   ]
  },
  {
   "cell_type": "code",
   "execution_count": null,
   "metadata": {
    "collapsed": true
   },
   "outputs": [],
   "source": [
    "import datetime\n",
    "\n",
    "the_epoch = datetime.datetime.utcfromtimestamp(0)    \n",
    "\n",
    "def timestamp_to_epoch(dt):\n",
    "    return int((dt - the_epoch).total_seconds())\n"
   ]
  },
  {
   "cell_type": "code",
   "execution_count": null,
   "metadata": {
    "collapsed": false
   },
   "outputs": [],
   "source": [
    "# Get all data messages that are of type record\n",
    "\n",
    "hrs = []\n",
    "tss = []\n",
    "raw_tss = []\n",
    "power = []\n",
    "\n",
    "rec_count = 0\n",
    "baseline_epoch = 0\n",
    "baseline_ts = datetime.datetime.now() \n",
    "normalized_basetime = datetime.datetime.strptime('24052010', '%d%m%Y')\n",
    "for record in fitfile.get_messages('record'):\n",
    "    rec_count += 1\n",
    "#    if rec_count > 5:\n",
    "#        break\n",
    "    print 'record {}'.format(rec_count)\n",
    "\n",
    "    # Go through all the data entries in this record\n",
    "    current_epoch = -1\n",
    "    current_hr = -1\n",
    "    current_power = -1\n",
    "    raw_ts = datetime.datetime.now() \n",
    "    \n",
    "    for record_data in record:\n",
    "        \n",
    "        if rec_count == 1 and record_data.name == 'timestamp':\n",
    "            print 'setting baseline epoch from {}'.format(record_data.value)\n",
    "            baseline_epoch = timestamp_to_epoch(record_data.value)\n",
    "            baseline_ts = record_data.value\n",
    "#            print 'baseline epoch be {}'.format(baseline_epoch)\n",
    "\n",
    "        # Print the records name and value (and units if it has any)\n",
    "#        if record_data.units:\n",
    "#            print \" * %s: %s %s\" % (\n",
    "#                record_data.name, record_data.value, record_data.units,\n",
    "#            )\n",
    "#        else:\n",
    "#            print \" * %s: %s\" % (record_data.name, record_data.value)\n",
    "\n",
    "        if record_data.name == 'power':\n",
    "            current_power = record_data.value\n",
    "            \n",
    "        if record_data.name == 'heart_rate':\n",
    "            current_hr = record_data.value\n",
    "                 \n",
    "        if record_data.name == 'timestamp':    \n",
    "            current_epoch = timestamp_to_epoch(record_data.value) - baseline_epoch\n",
    "            raw_ts = normalized_basetime + (record_data.value - baseline_ts)\n",
    "#            raw_ts = record_data.value\n",
    "#            print 'current epoch {}'.format(current_epoch)\n",
    "            \n",
    "        if current_epoch != -1 and current_hr != -1:\n",
    "#            print 'i has a tuple ({},{})'.format(current_epoch, current_hr)\n",
    "            tss.append(current_epoch)\n",
    "            hrs.append(current_hr)\n",
    "            raw_tss.append(raw_ts)\n",
    "            power.append(current_power)\n",
    "    print\n",
    "\n",
    "print tss\n",
    "print hrs\n",
    "print raw_tss"
   ]
  },
  {
   "cell_type": "code",
   "execution_count": null,
   "metadata": {
    "collapsed": true
   },
   "outputs": [],
   "source": [
    "# See http://matplotlib.org/api/_as_gen/matplotlib.pyplot.plot.html#matplotlib.pyplot.plot\n",
    "import matplotlib.pyplot as plt\n",
    "%matplotlib inline"
   ]
  },
  {
   "cell_type": "code",
   "execution_count": null,
   "metadata": {
    "collapsed": false
   },
   "outputs": [],
   "source": [
    "#import matplotlib.dates\n",
    "#times = matplotlib.dates.date2num(raw_tss)\n",
    "import matplotlib.dates as mdates\n",
    "\n",
    "with plt.xkcd():\n",
    "\n",
    "    plt.figure(figsize=(15, 8))\n",
    "    plt.title('heart rate')\n",
    "    plt.ylabel(\"BPM\")\n",
    "    myFmt = mdates.DateFormatter('%H:%M')\n",
    "    plt.gca().xaxis.set_major_formatter(myFmt)\n",
    "    plt.plot(raw_tss,hrs)\n",
    "    \n",
    "plt.show()"
   ]
  },
  {
   "cell_type": "code",
   "execution_count": null,
   "metadata": {
    "collapsed": false
   },
   "outputs": [],
   "source": [
    "# Get laps\n",
    "middle = raw_tss[len(raw_tss)/2]\n",
    "print type(middle)\n",
    "print middle\n",
    "\n",
    "messages = fitfile.messages\n",
    "\n",
    "laps = []\n",
    "for msg in messages:\n",
    "    if msg.name == 'lap':\n",
    "        laps.append(msg)\n",
    "        \n",
    "start_times = map(lambda x:x.get_value('start_time'), laps)\n",
    "print start_times\n",
    "\n",
    "raw_start_times = map(lambda x:normalized_basetime + (x - baseline_ts), start_times)\n",
    "print raw_start_times"
   ]
  },
  {
   "cell_type": "code",
   "execution_count": null,
   "metadata": {
    "collapsed": false
   },
   "outputs": [],
   "source": [
    "import matplotlib.dates as mdates\n",
    "\n",
    "plt.figure(figsize=(15, 8))\n",
    "#plt.title('heart rate')\n",
    "#plt.ylabel(\"BPM\")\n",
    "myFmt = mdates.DateFormatter('%H:%M')\n",
    "\n",
    "#plt.plot(raw_tss,hrs)\n",
    "\n",
    "plt.figure(1)\n",
    "plt.subplot(211)\n",
    "plt.title('heart rate (bpm)')\n",
    "plt.gca().xaxis.set_major_formatter(myFmt)\n",
    "\n",
    "for st in raw_start_times:\n",
    "    plt.axvline(x=st,linestyle='dashed',color='k')\n",
    "\n",
    "#plt.axvline(x=middle)\n",
    "#plt.axvline(x=raw_start_times[1])\n",
    "plt.plot(raw_tss,hrs)\n",
    "\n",
    "plt.subplot(212)\n",
    "plt.gca().xaxis.set_major_formatter(myFmt)\n",
    "for st in raw_start_times:\n",
    "    plt.axvline(x=st, linestyle='dashed',color='k'\n",
    "               )\n",
    "plt.plot(raw_tss,power)\n",
    "plt.title('power (watts)')\n",
    "plt.show()"
   ]
  },
  {
   "cell_type": "code",
   "execution_count": null,
   "metadata": {
    "collapsed": true
   },
   "outputs": [],
   "source": []
  }
 ],
 "metadata": {
  "kernelspec": {
   "display_name": "Python 2",
   "language": "python",
   "name": "python2"
  },
  "language_info": {
   "codemirror_mode": {
    "name": "ipython",
    "version": 2
   },
   "file_extension": ".py",
   "mimetype": "text/x-python",
   "name": "python",
   "nbconvert_exporter": "python",
   "pygments_lexer": "ipython2",
   "version": "2.7.12"
  }
 },
 "nbformat": 4,
 "nbformat_minor": 0
}
