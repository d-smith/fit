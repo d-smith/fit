{
 "cells": [
  {
   "cell_type": "code",
   "execution_count": null,
   "metadata": {
    "collapsed": true
   },
   "outputs": [],
   "source": [
    "from fitparse import FitFile"
   ]
  },
  {
   "cell_type": "code",
   "execution_count": null,
   "metadata": {
    "collapsed": true
   },
   "outputs": [],
   "source": [
    "fitfile = FitFile('./2017-11-03-15-58-49.fit')"
   ]
  },
  {
   "cell_type": "code",
   "execution_count": null,
   "metadata": {
    "collapsed": true
   },
   "outputs": [],
   "source": [
    "fitfile.parse()"
   ]
  },
  {
   "cell_type": "code",
   "execution_count": null,
   "metadata": {
    "collapsed": false
   },
   "outputs": [],
   "source": [
    "messages = fitfile.messages\n",
    "print '{} messages'.format(len(messages))"
   ]
  },
  {
   "cell_type": "code",
   "execution_count": null,
   "metadata": {
    "collapsed": false
   },
   "outputs": [],
   "source": [
    "for i in range(0,10):\n",
    "    msg = messages[i]\n",
    "    print 'message no. {}'.format(i)\n",
    "    print msg.name\n",
    "    print msg.get_values()"
   ]
  },
  {
   "cell_type": "code",
   "execution_count": null,
   "metadata": {
    "collapsed": false
   },
   "outputs": [],
   "source": [
    "field_samples = {}\n",
    "for msg in messages:    \n",
    "    field_samples[msg.name] = msg\n"
   ]
  },
  {
   "cell_type": "code",
   "execution_count": null,
   "metadata": {
    "collapsed": false
   },
   "outputs": [],
   "source": [
    "for k in field_samples:\n",
    "    print 'Message type: {}'.format(k)\n",
    "    print field_samples[k].get_values()\n",
    "    print ''"
   ]
  },
  {
   "cell_type": "code",
   "execution_count": null,
   "metadata": {
    "collapsed": false
   },
   "outputs": [],
   "source": [
    "field_counts = {}\n",
    "for msg in messages:\n",
    "    if msg.name in field_counts:\n",
    "        count = field_counts[msg.name]\n",
    "        field_counts[msg.name] = count + 1\n",
    "    else:\n",
    "        field_counts[msg.name] = 1\n"
   ]
  },
  {
   "cell_type": "code",
   "execution_count": null,
   "metadata": {
    "collapsed": false
   },
   "outputs": [],
   "source": [
    "for k in field_counts:\n",
    "    print 'record type: {}, count: {}'.format(k, field_counts[k])"
   ]
  },
  {
   "cell_type": "code",
   "execution_count": null,
   "metadata": {
    "collapsed": false
   },
   "outputs": [],
   "source": [
    "# Show the file type is activity - see section 9 in the FIT file doc for details\n",
    "fid = field_samples['file_id']\n",
    "print fid.get_value('type')"
   ]
  },
  {
   "cell_type": "code",
   "execution_count": null,
   "metadata": {
    "collapsed": false
   },
   "outputs": [],
   "source": [
    "# Show the activity\n",
    "activity = field_samples['activity']\n",
    "print activity.get_values()"
   ]
  },
  {
   "cell_type": "code",
   "execution_count": null,
   "metadata": {
    "collapsed": false
   },
   "outputs": [],
   "source": [
    "# Dump all 'non-record' records\n",
    "for msg in messages:\n",
    "    if msg.name != 'record' and msg.name != 'unknown_22':\n",
    "        print 'Message type: {}'.format(msg.name)\n",
    "        print msg.get_values()\n",
    "        print ''"
   ]
  },
  {
   "cell_type": "code",
   "execution_count": null,
   "metadata": {
    "collapsed": false
   },
   "outputs": [],
   "source": [
    "# Next - extract session start, session end, laps\n",
    "for msg in messages:\n",
    "    if msg.name == 'session' or msg.name == 'lap' or msg.name == 'event':\n",
    "        print 'Message type: {}'.format(msg.name)\n",
    "        print msg.get_values()\n",
    "        print ''"
   ]
  },
  {
   "cell_type": "code",
   "execution_count": null,
   "metadata": {
    "collapsed": false
   },
   "outputs": [],
   "source": [
    "# Get laps\n",
    "laps = []\n",
    "for msg in messages:\n",
    "    if msg.name == 'lap':\n",
    "        laps.append(msg)\n",
    "        \n",
    "start_times = map(lambda x:x.get_value('start_time'), laps)\n",
    "print start_times"
   ]
  },
  {
   "cell_type": "code",
   "execution_count": null,
   "metadata": {
    "collapsed": false
   },
   "outputs": [],
   "source": [
    "print laps[0].get_values()\n",
    "\n",
    "lap_time_sum = 0\n",
    "for lap in laps:\n",
    "    lap_time_sum += lap.get_value('total_timer_time')\n",
    "    \n",
    "print lap_time_sum\n",
    "print lap_time_sum/60"
   ]
  },
  {
   "cell_type": "code",
   "execution_count": null,
   "metadata": {
    "collapsed": false
   },
   "outputs": [],
   "source": [
    "# Slicing arrays in python\n",
    "foo = [0,1,2,3,4,5]\n",
    "print foo[:2]\n",
    "print foo[0:2]\n",
    "print foo[3:5]\n"
   ]
  },
  {
   "cell_type": "code",
   "execution_count": null,
   "metadata": {
    "collapsed": true
   },
   "outputs": [],
   "source": [
    "def get_all_records(messages):\n",
    "    all_records = []\n",
    "    for msg in messages:\n",
    "        if msg.name == 'record':\n",
    "            all_records.append(msg)\n",
    "    return all_records\n",
    "            "
   ]
  },
  {
   "cell_type": "code",
   "execution_count": null,
   "metadata": {
    "collapsed": true
   },
   "outputs": [],
   "source": [
    "def records_by_lap(messages, lap_no):\n",
    "    lap_records=[]\n",
    "    laps_found = 0\n",
    "    last_idx = 0\n",
    "    idx = 0\n",
    "    lap_records.append([])\n",
    "    for msg in messages:\n",
    "        lap_records[laps_found].append(msg)\n",
    "        if msg.name == 'lap':\n",
    "            laps_found += 1\n",
    "            lap_records.append([])\n",
    "            print 'lap {} found at {}'.format(laps_found, idx)\n",
    "            \n",
    "        idx += 1\n",
    "        \n",
    "    return lap_records\n",
    "        \n",
    "    "
   ]
  },
  {
   "cell_type": "code",
   "execution_count": null,
   "metadata": {
    "collapsed": false
   },
   "outputs": [],
   "source": [
    "rbl = records_by_lap(messages, 1)\n",
    "print len(rbl)"
   ]
  },
  {
   "cell_type": "code",
   "execution_count": null,
   "metadata": {
    "collapsed": true
   },
   "outputs": [],
   "source": [
    "all_records = get_all_records(messages)"
   ]
  },
  {
   "cell_type": "code",
   "execution_count": null,
   "metadata": {
    "collapsed": false
   },
   "outputs": [],
   "source": [
    "print filter(lambda x:x != None, map(lambda x:x.get_value('heart_rate'), rbl[0]))"
   ]
  },
  {
   "cell_type": "code",
   "execution_count": null,
   "metadata": {
    "collapsed": false
   },
   "outputs": [],
   "source": [
    "import numpy as np\n",
    "print int(round(np.average(filter(lambda x:x != None, map(lambda x:x.get_value('heart_rate'), rbl[0])))))"
   ]
  },
  {
   "cell_type": "code",
   "execution_count": null,
   "metadata": {
    "collapsed": true
   },
   "outputs": [],
   "source": [
    "import numpy as np\n",
    "\n",
    "def average_val_for_field(records, field_name):\n",
    "    fields = map(lambda x:x.get_value(field_name), records)\n",
    "    fields_with_vals = filter(lambda x:x != None, fields)\n",
    "    avg = int(round(np.average(fields_with_vals)))\n",
    "    return avg"
   ]
  },
  {
   "cell_type": "code",
   "execution_count": null,
   "metadata": {
    "collapsed": false
   },
   "outputs": [],
   "source": [
    "print laps[0].get_value('avg_heart_rate')"
   ]
  },
  {
   "cell_type": "code",
   "execution_count": null,
   "metadata": {
    "collapsed": false
   },
   "outputs": [],
   "source": [
    "print average_val_for_field(rbl[0], 'heart_rate')\n",
    "print average_val_for_field(rbl[0], 'power')"
   ]
  },
  {
   "cell_type": "code",
   "execution_count": null,
   "metadata": {
    "collapsed": true
   },
   "outputs": [],
   "source": [
    "import pandas as pd"
   ]
  },
  {
   "cell_type": "code",
   "execution_count": null,
   "metadata": {
    "collapsed": false
   },
   "outputs": [],
   "source": [
    "s = pd.Series(map(lambda x:x.get_value('power'), filter(lambda x:x.name=='record',rbl[0])))\n",
    "print s"
   ]
  },
  {
   "cell_type": "code",
   "execution_count": null,
   "metadata": {
    "collapsed": false
   },
   "outputs": [],
   "source": [
    "print type(s)\n",
    "s.describe()"
   ]
  },
  {
   "cell_type": "code",
   "execution_count": null,
   "metadata": {
    "collapsed": false
   },
   "outputs": [],
   "source": [
    "rolling_means = s.rolling(window=30,center=False).mean()[31:]\n",
    "print type(rolling_means)"
   ]
  },
  {
   "cell_type": "code",
   "execution_count": null,
   "metadata": {
    "collapsed": false
   },
   "outputs": [],
   "source": [
    "from math import pow\n",
    "\n",
    "rmp = rolling_means.map(lambda x:pow(x,4))"
   ]
  },
  {
   "cell_type": "code",
   "execution_count": null,
   "metadata": {
    "collapsed": false
   },
   "outputs": [],
   "source": [
    "print rmp.mean()"
   ]
  },
  {
   "cell_type": "code",
   "execution_count": null,
   "metadata": {
    "collapsed": false
   },
   "outputs": [],
   "source": [
    "np = rmp.mean()**(1/float(4))"
   ]
  },
  {
   "cell_type": "code",
   "execution_count": null,
   "metadata": {
    "collapsed": false
   },
   "outputs": [],
   "source": [
    "print int(round(np))\n",
    "print laps[0].get_value('normalized_power')"
   ]
  },
  {
   "cell_type": "code",
   "execution_count": null,
   "metadata": {
    "collapsed": true
   },
   "outputs": [],
   "source": [
    "# Definition from Allen and Coggan\n",
    "\n",
    "def normalized_power(records):\n",
    "    s_all = pd.Series(map(lambda x:x.get_value('power'), filter(lambda x:x.name=='record',records)))\n",
    "    rolling_means_all = s_all.rolling(window=30,center=False).mean()[31:]\n",
    "    rmp_all = rolling_means_all.map(lambda x:pow(x,4))\n",
    "    np_all = rmp_all.mean()**(1/float(4))\n",
    "    return np_all\n",
    "    "
   ]
  },
  {
   "cell_type": "code",
   "execution_count": null,
   "metadata": {
    "collapsed": false
   },
   "outputs": [],
   "source": [
    "# Calculate the normalized power for all records\n",
    "np_all = normalized_power(all_records)\n",
    "print np_all\n"
   ]
  },
  {
   "cell_type": "code",
   "execution_count": null,
   "metadata": {
    "collapsed": false
   },
   "outputs": [],
   "source": [
    "def extract_record_field(messages, field):\n",
    "    #Get records\n",
    "    records = filter(lambda m:m.name=='record', messages)\n",
    "    fields = map(lambda r:r.get_value(field), records)\n",
    "    return filter(lambda f:f != None, fields)"
   ]
  },
  {
   "cell_type": "code",
   "execution_count": null,
   "metadata": {
    "collapsed": false
   },
   "outputs": [],
   "source": [
    "power = extract_record_field(messages, 'power')\n",
    "print power"
   ]
  },
  {
   "cell_type": "code",
   "execution_count": null,
   "metadata": {
    "collapsed": true
   },
   "outputs": [],
   "source": [
    "import matplotlib.pyplot as plt\n",
    "%matplotlib inline"
   ]
  },
  {
   "cell_type": "code",
   "execution_count": null,
   "metadata": {
    "collapsed": false
   },
   "outputs": [],
   "source": [
    "n, bins, patches = plt.hist(power, 30, normed=0, facecolor='g', alpha=0.75)\n",
    "\n",
    "print n\n",
    "print bins\n",
    "print patches\n",
    "\n",
    "plt.xlabel('Power')\n",
    "plt.ylabel('Time')\n",
    "plt.title('Power Histogram')\n",
    "plt.axis([0, 300, 0, 400])\n",
    "plt.grid(True)\n",
    "plt.show()"
   ]
  },
  {
   "cell_type": "code",
   "execution_count": null,
   "metadata": {
    "collapsed": false
   },
   "outputs": [],
   "source": [
    "hr = extract_record_field(messages, 'heart_rate')\n",
    "\n",
    "plt.hist(hr, 30, normed=0, facecolor='g', alpha=0.75)\n",
    "\n",
    "plt.xlabel('Heart Rate')\n",
    "plt.ylabel('Time')\n",
    "plt.title('HR Histogram')\n",
    "plt.axis([50, 250, 0, 300])\n",
    "plt.grid(True)\n",
    "plt.show()"
   ]
  },
  {
   "cell_type": "code",
   "execution_count": null,
   "metadata": {
    "collapsed": true
   },
   "outputs": [],
   "source": [
    "def make_zone(name, low, high):\n",
    "    zone = {}\n",
    "    zone['Name'] = name\n",
    "    zone['Low'] = low\n",
    "    zone['High'] = high\n",
    "    \n",
    "    return zone"
   ]
  },
  {
   "cell_type": "code",
   "execution_count": null,
   "metadata": {
    "collapsed": false
   },
   "outputs": [],
   "source": [
    "em = make_zone('EnduranceMiles', 0.45, 0.73)\n",
    "print em"
   ]
  },
  {
   "cell_type": "code",
   "execution_count": null,
   "metadata": {
    "collapsed": false
   },
   "outputs": [],
   "source": [
    "training_zones = []\n",
    "training_zones.append(make_zone('EnduranceMiles', 0.45, 0.73))\n",
    "training_zones.append(make_zone('Tempo', 0.8, 0.85))\n",
    "training_zones.append(make_zone('SteadyState', 0.86, 0.90))\n",
    "training_zones.append(make_zone('ClimbingRepeat', 0.95, 1.0))\n",
    "training_zones.append(make_zone('PowerInterval', 1.01, 10.0))\n",
    "\n",
    "print training_zones"
   ]
  },
  {
   "cell_type": "code",
   "execution_count": null,
   "metadata": {
    "collapsed": true
   },
   "outputs": [],
   "source": [
    "def calculate_zone(field_test_power, zone):\n",
    "    czone = {}\n",
    "    czone['Name'] = zone['Name']\n",
    "    czone['Low'] = int(round(zone['Low']*field_test_power))\n",
    "    czone['High'] = int(round(zone['High']*field_test_power))\n",
    "    return czone"
   ]
  },
  {
   "cell_type": "code",
   "execution_count": null,
   "metadata": {
    "collapsed": false
   },
   "outputs": [],
   "source": [
    "print calculate_zone(213,em)\n",
    "print em"
   ]
  },
  {
   "cell_type": "code",
   "execution_count": null,
   "metadata": {
    "collapsed": true
   },
   "outputs": [],
   "source": [
    "def power_training_intensities(field_test_power):\n",
    "    i = []\n",
    "    for z in training_zones:\n",
    "        i.append(calculate_zone(field_test_power,z))\n",
    "        \n",
    "    return i\n",
    "    \n",
    "    "
   ]
  },
  {
   "cell_type": "code",
   "execution_count": null,
   "metadata": {
    "collapsed": false
   },
   "outputs": [],
   "source": [
    "my_intensities = power_training_intensities(237)\n",
    "for i in my_intensities:\n",
    "    print '{}: {} - {}'.format(i['Name'],i['Low'],i['High'])"
   ]
  },
  {
   "cell_type": "code",
   "execution_count": null,
   "metadata": {
    "collapsed": true
   },
   "outputs": [],
   "source": [
    "#\n",
    "# Intensity factor 0 ration of normalized power to FTP, e.g. NP/FTP. The\n",
    "# CTS test gives you a number 5% over the Allen and Coggan test, which is \n",
    "# 5% over FTP\n",
    "#\n",
    "# See https://trainright.com/cts-field-test-why-eight-minutes-not-20/ for details.\n",
    "cts_test = 237\n",
    "ac_from_cts = 237 * 0.95\n",
    "ftp = ac_from_cts * 0.95"
   ]
  },
  {
   "cell_type": "code",
   "execution_count": null,
   "metadata": {
    "collapsed": false
   },
   "outputs": [],
   "source": [
    "print ftp"
   ]
  },
  {
   "cell_type": "code",
   "execution_count": null,
   "metadata": {
    "collapsed": false
   },
   "outputs": [],
   "source": [
    "intensity_factor = np_all/ftp\n",
    "print 'intensity factor: {}'.format(intensity_factor)"
   ]
  },
  {
   "cell_type": "code",
   "execution_count": null,
   "metadata": {
    "collapsed": true
   },
   "outputs": [],
   "source": [
    "def find_session(messages):\n",
    "    sessions = filter(lambda m:m.name=='session', messages)\n",
    "    return sessions"
   ]
  },
  {
   "cell_type": "code",
   "execution_count": null,
   "metadata": {
    "collapsed": false
   },
   "outputs": [],
   "source": [
    "sessions = find_session(messages)\n",
    "session = sessions[0]\n",
    "print session.get_values()"
   ]
  },
  {
   "cell_type": "code",
   "execution_count": null,
   "metadata": {
    "collapsed": false
   },
   "outputs": [],
   "source": [
    "s = session.get_value('total_timer_time')\n",
    "W = np_all\n",
    "IF = intensity_factor\n",
    "FTP = ftp\n",
    "\n",
    "TSS = ((s*W*IF)/(FTP*3600.0))* 100.0"
   ]
  },
  {
   "cell_type": "code",
   "execution_count": null,
   "metadata": {
    "collapsed": false
   },
   "outputs": [],
   "source": [
    "print 'training stress score: {}'.format(TSS)"
   ]
  },
  {
   "cell_type": "code",
   "execution_count": null,
   "metadata": {
    "collapsed": true
   },
   "outputs": [],
   "source": []
  }
 ],
 "metadata": {
  "kernelspec": {
   "display_name": "Python 2",
   "language": "python",
   "name": "python2"
  },
  "language_info": {
   "codemirror_mode": {
    "name": "ipython",
    "version": 2
   },
   "file_extension": ".py",
   "mimetype": "text/x-python",
   "name": "python",
   "nbconvert_exporter": "python",
   "pygments_lexer": "ipython2",
   "version": "2.7.12"
  }
 },
 "nbformat": 4,
 "nbformat_minor": 0
}
