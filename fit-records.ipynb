{
 "cells": [
  {
   "cell_type": "code",
   "execution_count": 1,
   "metadata": {
    "collapsed": true
   },
   "outputs": [],
   "source": [
    "from fitparse import FitFile"
   ]
  },
  {
   "cell_type": "code",
   "execution_count": 2,
   "metadata": {
    "collapsed": true
   },
   "outputs": [],
   "source": [
    "fitfile = FitFile('./2017-11-03-15-58-49.fit')"
   ]
  },
  {
   "cell_type": "code",
   "execution_count": 3,
   "metadata": {
    "collapsed": true
   },
   "outputs": [],
   "source": [
    "fitfile.parse()"
   ]
  },
  {
   "cell_type": "code",
   "execution_count": 4,
   "metadata": {
    "collapsed": false
   },
   "outputs": [
    {
     "name": "stdout",
     "output_type": "stream",
     "text": [
      "4564 messages\n"
     ]
    }
   ],
   "source": [
    "messages = fitfile.messages\n",
    "print '{} messages'.format(len(messages))"
   ]
  },
  {
   "cell_type": "code",
   "execution_count": 5,
   "metadata": {
    "collapsed": false
   },
   "outputs": [
    {
     "name": "stdout",
     "output_type": "stream",
     "text": [
      "message no. 0\n",
      "file_id\n",
      "{'number': None, 'time_created': datetime.datetime(2017, 11, 3, 22, 58, 49), 'garmin_product': 'edge500', 'serial_number': 3888613190, 'type': 'activity', 'manufacturer': 'garmin'}\n",
      "message no. 1\n",
      "file_creator\n",
      "{'hardware_version': None, 'software_version': 330}\n",
      "message no. 2\n",
      "event\n",
      "{'timestamp': datetime.datetime(2017, 11, 3, 22, 58, 49), 'event_group': 0, 'timer_trigger': 'manual', 'event': 'timer', 'event_type': 'start'}\n",
      "message no. 3\n",
      "device_info\n",
      "{'device_index': 'creator', 'cum_operating_time': None, 'software_version': 3.3, 'timestamp': datetime.datetime(2017, 11, 3, 22, 58, 49), 'battery_voltage': None, 'hardware_version': None, 'unknown_8': None, 'unknown_9': None, 'garmin_product': 'edge500', 'unknown_15': None, 'unknown_16': None, 'serial_number': 3888613190, 'device_type': 'antfs', 'battery_status': None, 'manufacturer': 'garmin'}\n",
      "message no. 4\n",
      "device_info\n",
      "{'product': None, 'device_index': 1, 'cum_operating_time': None, 'software_version': None, 'timestamp': datetime.datetime(2017, 11, 3, 22, 58, 49), 'battery_voltage': None, 'hardware_version': None, 'unknown_8': None, 'unknown_9': None, 'unknown_15': None, 'unknown_16': None, 'serial_number': None, 'device_type': 'environment_sensor_legacy', 'battery_status': None, 'manufacturer': None}\n",
      "message no. 5\n",
      "device_info\n",
      "{'product': None, 'device_index': 2, 'cum_operating_time': None, 'software_version': None, 'timestamp': datetime.datetime(2017, 11, 3, 22, 58, 49), 'battery_voltage': None, 'hardware_version': None, 'unknown_8': None, 'unknown_9': None, 'unknown_15': 6, 'unknown_16': None, 'serial_number': 24673845, 'device_type': 'heart_rate', 'battery_status': None, 'manufacturer': None}\n",
      "message no. 6\n",
      "unknown_22\n",
      "{'unknown_6': None, 'unknown_7': None, 'unknown_4': 2, 'unknown_5': 3, 'unknown_2': None, 'unknown_3': 1, 'unknown_0': None, 'unknown_1': None, 'unknown_253': 878684329, 'unknown_8': None}\n",
      "message no. 7\n",
      "record\n",
      "{'timestamp': datetime.datetime(2017, 11, 3, 22, 58, 49), 'enhanced_altitude': 81.39999999999998, 'heart_rate': 73, 'altitude': 81.39999999999998, 'temperature': 16}\n",
      "message no. 8\n",
      "record\n",
      "{'timestamp': datetime.datetime(2017, 11, 3, 22, 58, 50), 'enhanced_altitude': 81.39999999999998, 'heart_rate': 73, 'altitude': 81.39999999999998, 'temperature': 16}\n",
      "message no. 9\n",
      "device_info\n",
      "{'product': None, 'device_index': 3, 'cum_operating_time': None, 'software_version': None, 'timestamp': datetime.datetime(2017, 11, 3, 22, 58, 51), 'battery_voltage': None, 'hardware_version': None, 'unknown_8': None, 'unknown_9': None, 'unknown_15': 4, 'unknown_16': None, 'serial_number': 84610685, 'device_type': 'bike_power', 'battery_status': None, 'manufacturer': None}\n"
     ]
    }
   ],
   "source": [
    "for i in range(0,10):\n",
    "    msg = messages[i]\n",
    "    print 'message no. {}'.format(i)\n",
    "    print msg.name\n",
    "    print msg.get_values()"
   ]
  },
  {
   "cell_type": "code",
   "execution_count": 6,
   "metadata": {
    "collapsed": false
   },
   "outputs": [
    {
     "name": "stdout",
     "output_type": "stream",
     "text": [
      "{'file_creator': <DataMessage: file_creator (#49) -- local mesg: #1, fields: [software_version: 330, hardware_version: None]>, 'record': <DataMessage: record (#20) -- local mesg: #9, fields: [timestamp: 2017-11-04 00:15:32, position_lat: 541307935, position_long: -1463201963, distance: 24007.99, enhanced_altitude: 79.4, altitude: 79.4, enhanced_speed: 2.469, speed: 2.469, power: 0, heart_rate: 112, cadence: 20, temperature: 17]>, 'device_info': <DataMessage: device_info (#23) -- local mesg: #3, fields: [timestamp: 2017-11-04 00:15:32, serial_number: 84610685, cum_operating_time: None, unknown_8: None, unknown_15: 17920, unknown_16: 321, manufacturer: None, product: None, software_version: None, battery_voltage: None, device_index: 3, device_type: bike_power, hardware_version: None, unknown_9: 98, battery_status: None]>, 'session': <DataMessage: session (#18) -- local mesg: #11, fields: [timestamp: 2017-11-04 00:15:42, start_time: 2017-11-03 22:58:49, start_position_lat: 541307315, start_position_long: -1463202950, total_elapsed_time: 4602.355, total_timer_time: 4501.013, total_distance: 24007.99, total_cycles: 6611, nec_lat: 541309292, nec_long: -1463200891, swc_lat: 541305957, swc_long: -1463204514, total_work: 612976, message_index: 0, total_calories: 319, total_fat_calories: 0, enhanced_avg_speed: 5.334, avg_speed: 5.334, enhanced_max_speed: 7.367, max_speed: 7.367, avg_power: 136, max_power: 290, total_ascent: 59, total_descent: 61, first_lap_index: 0, num_laps: 8, normalized_power: 162, training_stress_score: 81.7, intensity_factor: 0.812, left_right_balance: None, threshold_power: 200, event: lap, event_type: stop, sport: cycling, sub_sport: generic, avg_heart_rate: 134, max_heart_rate: 182, avg_cadence: 95, max_cadence: 186, total_training_effect: None, trigger: activity_end]>, 'file_id': <DataMessage: file_id (#0) -- local mesg: #0, fields: [serial_number: 3888613190, time_created: 2017-11-03 22:58:49, manufacturer: garmin, garmin_product: edge500, number: None, type: activity]>, 'activity': <DataMessage: activity (#34) -- local mesg: #12, fields: [timestamp: 2017-11-04 00:15:42, total_timer_time: 4501.013, num_sessions: 1, type: manual, event: activity, event_type: stop]>, 'lap': <DataMessage: lap (#19) -- local mesg: #10, fields: [timestamp: 2017-11-04 00:15:42, start_time: 2017-11-04 00:13:32, start_position_lat: 541306659, start_position_long: -1463203015, end_position_lat: 541307935, end_position_long: -1463201963, total_elapsed_time: 118.951, total_timer_time: 118.951, total_distance: 475.03, total_cycles: 154, unknown_27: 541308128, unknown_28: -1463201779, unknown_29: 541306586, unknown_30: -1463203022, total_work: 7573, message_index: 7, total_calories: 3, total_fat_calories: 0, enhanced_avg_speed: 3.994, avg_speed: 3.994, enhanced_max_speed: 4.865, max_speed: 4.865, avg_power: 65, max_power: 100, total_ascent: 0, total_descent: 0, normalized_power: 87, left_right_balance: None, event: lap, event_type: stop, avg_heart_rate: 125, max_heart_rate: 155, avg_cadence: 89, max_cadence: 130, intensity: None, lap_trigger: session_end, sport: cycling]>, 'event': <DataMessage: event (#21) -- local mesg: #2, fields: [timestamp: 2017-11-04 00:15:42, data: 1, event: session, event_type: stop_disable_all, event_group: 1]>, 'unknown_22': <DataMessage: unknown_22 (#22) -- local mesg: #4, fields: [unknown_253: 878688249, unknown_0: 3, unknown_1: 3, unknown_2: 3, unknown_3: 1, unknown_4: 2, unknown_5: 3, unknown_6: 3, unknown_7: None, unknown_8: None]>}\n"
     ]
    }
   ],
   "source": [
    "field_samples = {}\n",
    "for msg in messages:    \n",
    "    field_samples[msg.name] = msg\n",
    "    \n",
    "print field_samples "
   ]
  },
  {
   "cell_type": "code",
   "execution_count": 7,
   "metadata": {
    "collapsed": false
   },
   "outputs": [
    {
     "name": "stdout",
     "output_type": "stream",
     "text": [
      "Message type: file_creator\n",
      "{'hardware_version': None, 'software_version': 330}\n",
      "\n",
      "Message type: record\n",
      "{'distance': 24007.99, 'temperature': 17, 'power': 0, 'heart_rate': 112, 'timestamp': datetime.datetime(2017, 11, 4, 0, 15, 32), 'altitude': 79.39999999999998, 'position_long': -1463201963, 'enhanced_speed': 2.469, 'position_lat': 541307935, 'speed': 2.469, 'enhanced_altitude': 79.39999999999998, 'cadence': 20}\n",
      "\n",
      "Message type: device_info\n",
      "{'product': None, 'device_index': 3, 'cum_operating_time': None, 'software_version': None, 'timestamp': datetime.datetime(2017, 11, 4, 0, 15, 32), 'battery_voltage': None, 'hardware_version': None, 'unknown_8': None, 'unknown_9': 98, 'unknown_15': 17920, 'unknown_16': 321, 'serial_number': 84610685, 'device_type': 'bike_power', 'battery_status': None, 'manufacturer': None}\n",
      "\n",
      "Message type: session\n",
      "{'event_type': 'stop', 'total_timer_time': 4501.013, 'first_lap_index': 0, 'avg_power': 136, 'avg_heart_rate': 134, 'total_elapsed_time': 4602.355, 'total_work': 612976, 'num_laps': 8, 'sport': 'cycling', 'start_position_long': -1463202950, 'event': 'lap', 'max_cadence': 186, 'message_index': 0, 'sub_sport': 'generic', 'total_calories': 319, 'trigger': 'activity_end', 'nec_long': -1463200891, 'total_ascent': 59, 'total_training_effect': None, 'total_cycles': 6611, 'left_right_balance': None, 'enhanced_avg_speed': 5.334, 'swc_long': -1463204514, 'timestamp': datetime.datetime(2017, 11, 4, 0, 15, 42), 'start_time': datetime.datetime(2017, 11, 3, 22, 58, 49), 'swc_lat': 541305957, 'start_position_lat': 541307315, 'max_speed': 7.367, 'total_distance': 24007.99, 'avg_cadence': 95, 'normalized_power': 162, 'intensity_factor': 0.812, 'total_descent': 61, 'training_stress_score': 81.7, 'threshold_power': 200, 'enhanced_max_speed': 7.367, 'max_power': 290, 'max_heart_rate': 182, 'avg_speed': 5.334, 'nec_lat': 541309292, 'total_fat_calories': 0}\n",
      "\n",
      "Message type: file_id\n",
      "{'number': None, 'time_created': datetime.datetime(2017, 11, 3, 22, 58, 49), 'garmin_product': 'edge500', 'serial_number': 3888613190, 'type': 'activity', 'manufacturer': 'garmin'}\n",
      "\n",
      "Message type: activity\n",
      "{'num_sessions': 1, 'event_type': 'stop', 'total_timer_time': 4501.013, 'timestamp': datetime.datetime(2017, 11, 4, 0, 15, 42), 'type': 'manual', 'event': 'activity'}\n",
      "\n",
      "Message type: lap\n",
      "{'event_type': 'stop', 'total_timer_time': 118.951, 'avg_power': 65, 'avg_heart_rate': 125, 'total_elapsed_time': 118.951, 'lap_trigger': 'session_end', 'intensity': None, 'total_work': 7573, 'end_position_long': -1463201963, 'sport': 'cycling', 'start_position_long': -1463203015, 'event': 'lap', 'unknown_30': -1463203022, 'enhanced_avg_speed': 3.994, 'message_index': 7, 'total_calories': 3, 'total_ascent': 0, 'max_cadence': 130, 'total_cycles': 154, 'left_right_balance': None, 'end_position_lat': 541307935, 'timestamp': datetime.datetime(2017, 11, 4, 0, 15, 42), 'start_time': datetime.datetime(2017, 11, 4, 0, 13, 32), 'start_position_lat': 541306659, 'max_speed': 4.865, 'unknown_29': 541306586, 'unknown_28': -1463201779, 'total_distance': 475.03, 'unknown_27': 541308128, 'avg_cadence': 89, 'normalized_power': 87, 'total_descent': 0, 'enhanced_max_speed': 4.865, 'max_power': 100, 'max_heart_rate': 155, 'avg_speed': 3.994, 'total_fat_calories': 0}\n",
      "\n",
      "Message type: event\n",
      "{'timestamp': datetime.datetime(2017, 11, 4, 0, 15, 42), 'event_group': 1, 'data': 1, 'event': 'session', 'event_type': 'stop_disable_all'}\n",
      "\n",
      "Message type: unknown_22\n",
      "{'unknown_6': 3, 'unknown_7': None, 'unknown_4': 2, 'unknown_5': 3, 'unknown_2': 3, 'unknown_3': 1, 'unknown_0': 3, 'unknown_1': 3, 'unknown_253': 878688249, 'unknown_8': None}\n",
      "\n"
     ]
    }
   ],
   "source": [
    "for k in field_samples:\n",
    "    print 'Message type: {}'.format(k)\n",
    "    print field_samples[k].get_values()\n",
    "    print ''"
   ]
  },
  {
   "cell_type": "code",
   "execution_count": 8,
   "metadata": {
    "collapsed": false
   },
   "outputs": [],
   "source": [
    "field_counts = {}\n",
    "for msg in messages:\n",
    "    if msg.name in field_counts:\n",
    "        count = field_counts[msg.name]\n",
    "        field_counts[msg.name] = count + 1\n",
    "    else:\n",
    "        field_counts[msg.name] = 1\n"
   ]
  },
  {
   "cell_type": "code",
   "execution_count": 9,
   "metadata": {
    "collapsed": false
   },
   "outputs": [
    {
     "name": "stdout",
     "output_type": "stream",
     "text": [
      "record type: file_creator, count: 1\n",
      "record type: record, count: 4496\n",
      "record type: device_info, count: 20\n",
      "record type: session, count: 1\n",
      "record type: file_id, count: 1\n",
      "record type: activity, count: 1\n",
      "record type: lap, count: 8\n",
      "record type: event, count: 7\n",
      "record type: unknown_22, count: 29\n"
     ]
    }
   ],
   "source": [
    "for k in field_counts:\n",
    "    print 'record type: {}, count: {}'.format(k, field_counts[k])"
   ]
  },
  {
   "cell_type": "code",
   "execution_count": 10,
   "metadata": {
    "collapsed": false
   },
   "outputs": [
    {
     "name": "stdout",
     "output_type": "stream",
     "text": [
      "activity\n"
     ]
    }
   ],
   "source": [
    "# Show the file type is activity - see section 9 in the FIT file doc for details\n",
    "fid = field_samples['file_id']\n",
    "print fid.get_value('type')"
   ]
  },
  {
   "cell_type": "code",
   "execution_count": 11,
   "metadata": {
    "collapsed": false
   },
   "outputs": [
    {
     "name": "stdout",
     "output_type": "stream",
     "text": [
      "{'num_sessions': 1, 'event_type': 'stop', 'total_timer_time': 4501.013, 'timestamp': datetime.datetime(2017, 11, 4, 0, 15, 42), 'type': 'manual', 'event': 'activity'}\n"
     ]
    }
   ],
   "source": [
    "# Show the activity\n",
    "activity = field_samples['activity']\n",
    "print activity.get_values()"
   ]
  },
  {
   "cell_type": "code",
   "execution_count": 12,
   "metadata": {
    "collapsed": false
   },
   "outputs": [
    {
     "name": "stdout",
     "output_type": "stream",
     "text": [
      "Message type: file_id\n",
      "{'number': None, 'time_created': datetime.datetime(2017, 11, 3, 22, 58, 49), 'garmin_product': 'edge500', 'serial_number': 3888613190, 'type': 'activity', 'manufacturer': 'garmin'}\n",
      "\n",
      "Message type: file_creator\n",
      "{'hardware_version': None, 'software_version': 330}\n",
      "\n",
      "Message type: event\n",
      "{'timestamp': datetime.datetime(2017, 11, 3, 22, 58, 49), 'event_group': 0, 'timer_trigger': 'manual', 'event': 'timer', 'event_type': 'start'}\n",
      "\n",
      "Message type: device_info\n",
      "{'device_index': 'creator', 'cum_operating_time': None, 'software_version': 3.3, 'timestamp': datetime.datetime(2017, 11, 3, 22, 58, 49), 'battery_voltage': None, 'hardware_version': None, 'unknown_8': None, 'unknown_9': None, 'garmin_product': 'edge500', 'unknown_15': None, 'unknown_16': None, 'serial_number': 3888613190, 'device_type': 'antfs', 'battery_status': None, 'manufacturer': 'garmin'}\n",
      "\n",
      "Message type: device_info\n",
      "{'product': None, 'device_index': 1, 'cum_operating_time': None, 'software_version': None, 'timestamp': datetime.datetime(2017, 11, 3, 22, 58, 49), 'battery_voltage': None, 'hardware_version': None, 'unknown_8': None, 'unknown_9': None, 'unknown_15': None, 'unknown_16': None, 'serial_number': None, 'device_type': 'environment_sensor_legacy', 'battery_status': None, 'manufacturer': None}\n",
      "\n",
      "Message type: device_info\n",
      "{'product': None, 'device_index': 2, 'cum_operating_time': None, 'software_version': None, 'timestamp': datetime.datetime(2017, 11, 3, 22, 58, 49), 'battery_voltage': None, 'hardware_version': None, 'unknown_8': None, 'unknown_9': None, 'unknown_15': 6, 'unknown_16': None, 'serial_number': 24673845, 'device_type': 'heart_rate', 'battery_status': None, 'manufacturer': None}\n",
      "\n",
      "Message type: device_info\n",
      "{'product': None, 'device_index': 3, 'cum_operating_time': None, 'software_version': None, 'timestamp': datetime.datetime(2017, 11, 3, 22, 58, 51), 'battery_voltage': None, 'hardware_version': None, 'unknown_8': None, 'unknown_9': None, 'unknown_15': 4, 'unknown_16': None, 'serial_number': 84610685, 'device_type': 'bike_power', 'battery_status': None, 'manufacturer': None}\n",
      "\n",
      "Message type: device_info\n",
      "{'device_index': 4, 'cum_operating_time': None, 'software_version': 2.6, 'timestamp': datetime.datetime(2017, 11, 3, 23, 2, 5), 'battery_voltage': None, 'hardware_version': None, 'unknown_8': None, 'unknown_9': None, 'garmin_product': 979, 'unknown_15': None, 'unknown_16': None, 'serial_number': None, 'device_type': 'environment_sensor_legacy', 'battery_status': None, 'manufacturer': 'garmin'}\n",
      "\n",
      "Message type: event\n",
      "{'timestamp': datetime.datetime(2017, 11, 3, 23, 13, 52), 'event_group': 0, 'timer_trigger': 'manual', 'event': 'timer', 'event_type': 'stop_all'}\n",
      "\n",
      "Message type: device_info\n",
      "{'device_index': 'creator', 'cum_operating_time': None, 'software_version': 3.3, 'timestamp': datetime.datetime(2017, 11, 3, 23, 13, 52), 'battery_voltage': None, 'hardware_version': None, 'unknown_8': None, 'unknown_9': None, 'garmin_product': 'edge500', 'unknown_15': None, 'unknown_16': None, 'serial_number': 3888613190, 'device_type': 'antfs', 'battery_status': None, 'manufacturer': 'garmin'}\n",
      "\n",
      "Message type: device_info\n",
      "{'product': None, 'device_index': 1, 'cum_operating_time': None, 'software_version': None, 'timestamp': datetime.datetime(2017, 11, 3, 23, 13, 52), 'battery_voltage': None, 'hardware_version': None, 'unknown_8': None, 'unknown_9': None, 'unknown_15': None, 'unknown_16': None, 'serial_number': None, 'device_type': 'environment_sensor_legacy', 'battery_status': None, 'manufacturer': None}\n",
      "\n",
      "Message type: device_info\n",
      "{'device_index': 4, 'cum_operating_time': None, 'software_version': 2.6, 'timestamp': datetime.datetime(2017, 11, 3, 23, 13, 52), 'battery_voltage': None, 'hardware_version': None, 'unknown_8': None, 'unknown_9': None, 'garmin_product': 979, 'unknown_15': None, 'unknown_16': None, 'serial_number': None, 'device_type': 'environment_sensor_legacy', 'battery_status': None, 'manufacturer': 'garmin'}\n",
      "\n",
      "Message type: device_info\n",
      "{'product': None, 'device_index': 2, 'cum_operating_time': None, 'software_version': None, 'timestamp': datetime.datetime(2017, 11, 3, 23, 13, 52), 'battery_voltage': None, 'hardware_version': None, 'unknown_8': None, 'unknown_9': 99, 'unknown_15': 3628, 'unknown_16': 21, 'serial_number': 24673845, 'device_type': 'heart_rate', 'battery_status': None, 'manufacturer': None}\n",
      "\n",
      "Message type: device_info\n",
      "{'product': None, 'device_index': 3, 'cum_operating_time': None, 'software_version': None, 'timestamp': datetime.datetime(2017, 11, 3, 23, 13, 52), 'battery_voltage': None, 'hardware_version': None, 'unknown_8': None, 'unknown_9': 98, 'unknown_15': 3504, 'unknown_16': 69, 'serial_number': 84610685, 'device_type': 'bike_power', 'battery_status': None, 'manufacturer': None}\n",
      "\n",
      "Message type: event\n",
      "{'timestamp': datetime.datetime(2017, 11, 3, 23, 14, 47), 'event_group': 0, 'timer_trigger': 'manual', 'event': 'timer', 'event_type': 'start'}\n",
      "\n",
      "Message type: lap\n",
      "{'event_type': 'stop', 'total_timer_time': 911.942, 'avg_power': 103, 'avg_heart_rate': 100, 'total_elapsed_time': 966.884, 'lap_trigger': 'manual', 'intensity': None, 'total_work': 93693, 'end_position_long': -1463202362, 'sport': 'cycling', 'start_position_long': -1463202950, 'event': 'lap', 'unknown_30': -1463204124, 'enhanced_avg_speed': 4.988, 'message_index': 0, 'total_calories': 49, 'total_ascent': 59, 'max_cadence': 186, 'total_cycles': 1544, 'left_right_balance': None, 'end_position_lat': 541307882, 'timestamp': datetime.datetime(2017, 11, 3, 23, 14, 56), 'start_time': datetime.datetime(2017, 11, 3, 22, 58, 49), 'start_position_lat': 541307315, 'max_speed': 7.199, 'unknown_29': 541306907, 'unknown_28': -1463202152, 'total_distance': 4548.46, 'unknown_27': 541308159, 'avg_cadence': 105, 'normalized_power': 129, 'total_descent': 0, 'enhanced_max_speed': 7.199, 'max_power': 281, 'max_heart_rate': 142, 'avg_speed': 4.988, 'total_fat_calories': 0}\n",
      "\n",
      "Message type: lap\n",
      "{'event_type': 'stop', 'total_timer_time': 720.991, 'avg_power': 188, 'avg_heart_rate': 146, 'total_elapsed_time': 720.991, 'lap_trigger': 'manual', 'intensity': None, 'total_work': 135144, 'end_position_long': -1463203298, 'sport': 'cycling', 'start_position_long': -1463202350, 'event': 'lap', 'unknown_30': -1463203602, 'enhanced_avg_speed': 6.1, 'message_index': 1, 'total_calories': 23, 'total_ascent': 0, 'max_cadence': 122, 'total_cycles': 1078, 'left_right_balance': None, 'end_position_lat': 541308682, 'timestamp': datetime.datetime(2017, 11, 3, 23, 26, 57), 'start_time': datetime.datetime(2017, 11, 3, 23, 14, 56), 'start_position_lat': 541307878, 'max_speed': 7.237, 'unknown_29': 541306256, 'unknown_28': -1463201642, 'total_distance': 4398.04, 'unknown_27': 541308823, 'avg_cadence': 93, 'normalized_power': 193, 'total_descent': 0, 'enhanced_max_speed': 7.237, 'max_power': 290, 'max_heart_rate': 162, 'avg_speed': 6.1, 'total_fat_calories': 0}\n",
      "\n",
      "Message type: lap\n",
      "{'event_type': 'stop', 'total_timer_time': 362.183, 'avg_power': 73, 'avg_heart_rate': 118, 'total_elapsed_time': 362.183, 'lap_trigger': 'manual', 'intensity': None, 'total_work': 26386, 'end_position_long': -1463202585, 'sport': 'cycling', 'start_position_long': -1463203308, 'event': 'lap', 'unknown_30': -1463204514, 'enhanced_avg_speed': 3.704, 'message_index': 2, 'total_calories': 13, 'total_ascent': 0, 'max_cadence': 170, 'total_cycles': 492, 'left_right_balance': None, 'end_position_lat': 541307196, 'timestamp': datetime.datetime(2017, 11, 3, 23, 32, 59), 'start_time': datetime.datetime(2017, 11, 3, 23, 26, 57), 'start_position_lat': 541308685, 'max_speed': 6.502, 'unknown_29': 541306829, 'unknown_28': -1463202492, 'total_distance': 1341.68, 'unknown_27': 541309292, 'avg_cadence': 101, 'normalized_power': 93, 'total_descent': 0, 'enhanced_max_speed': 6.502, 'max_power': 128, 'max_heart_rate': 156, 'avg_speed': 3.704, 'total_fat_calories': 0}\n",
      "\n",
      "Message type: lap\n",
      "{'event_type': 'stop', 'total_timer_time': 720.967, 'avg_power': 185, 'avg_heart_rate': 162, 'total_elapsed_time': 720.967, 'lap_trigger': 'manual', 'intensity': None, 'total_work': 133610, 'end_position_long': -1463202700, 'sport': 'cycling', 'start_position_long': -1463202590, 'event': 'lap', 'unknown_30': -1463203623, 'enhanced_avg_speed': 6.318, 'message_index': 3, 'total_calories': 90, 'total_ascent': 0, 'max_cadence': 141, 'total_cycles': 1082, 'left_right_balance': None, 'end_position_lat': 541306762, 'timestamp': datetime.datetime(2017, 11, 3, 23, 45), 'start_time': datetime.datetime(2017, 11, 3, 23, 32, 59), 'start_position_lat': 541307204, 'max_speed': 7.237, 'unknown_29': 541306210, 'unknown_28': -1463201232, 'total_distance': 4554.8, 'unknown_27': 541308098, 'avg_cadence': 92, 'normalized_power': 192, 'total_descent': 0, 'enhanced_max_speed': 7.237, 'max_power': 265, 'max_heart_rate': 182, 'avg_speed': 6.318, 'total_fat_calories': 0}\n",
      "\n",
      "Message type: lap\n",
      "{'event_type': 'stop', 'total_timer_time': 361.927, 'avg_power': 73, 'avg_heart_rate': 128, 'total_elapsed_time': 361.927, 'lap_trigger': 'manual', 'intensity': None, 'total_work': 26258, 'end_position_long': -1463202500, 'sport': 'cycling', 'start_position_long': -1463202701, 'event': 'lap', 'unknown_30': -1463202848, 'enhanced_avg_speed': 3.788, 'message_index': 4, 'total_calories': 14, 'total_ascent': 0, 'max_cadence': 152, 'total_cycles': 432, 'left_right_balance': None, 'end_position_lat': 541307605, 'timestamp': datetime.datetime(2017, 11, 3, 23, 51, 2), 'start_time': datetime.datetime(2017, 11, 3, 23, 45), 'start_position_lat': 541306735, 'max_speed': 6.628, 'unknown_29': 541306419, 'unknown_28': -1463201195, 'total_distance': 1370.83, 'unknown_27': 541308702, 'avg_cadence': 92, 'normalized_power': 94, 'total_descent': 0, 'enhanced_max_speed': 6.628, 'max_power': 181, 'max_heart_rate': 170, 'avg_speed': 3.788, 'total_fat_calories': 0}\n",
      "\n",
      "Message type: event\n",
      "{'timestamp': datetime.datetime(2017, 11, 3, 23, 53, 31), 'event_group': 0, 'timer_trigger': 'manual', 'event': 'timer', 'event_type': 'stop_all'}\n",
      "\n",
      "Message type: device_info\n",
      "{'device_index': 'creator', 'cum_operating_time': None, 'software_version': 3.3, 'timestamp': datetime.datetime(2017, 11, 3, 23, 53, 31), 'battery_voltage': None, 'hardware_version': None, 'unknown_8': None, 'unknown_9': None, 'garmin_product': 'edge500', 'unknown_15': None, 'unknown_16': None, 'serial_number': 3888613190, 'device_type': 'antfs', 'battery_status': None, 'manufacturer': 'garmin'}\n",
      "\n",
      "Message type: device_info\n",
      "{'product': None, 'device_index': 1, 'cum_operating_time': None, 'software_version': None, 'timestamp': datetime.datetime(2017, 11, 3, 23, 53, 31), 'battery_voltage': None, 'hardware_version': None, 'unknown_8': None, 'unknown_9': None, 'unknown_15': None, 'unknown_16': None, 'serial_number': None, 'device_type': 'environment_sensor_legacy', 'battery_status': None, 'manufacturer': None}\n",
      "\n",
      "Message type: device_info\n",
      "{'device_index': 4, 'cum_operating_time': None, 'software_version': 2.6, 'timestamp': datetime.datetime(2017, 11, 3, 23, 53, 31), 'battery_voltage': None, 'hardware_version': None, 'unknown_8': None, 'unknown_9': None, 'garmin_product': 979, 'unknown_15': None, 'unknown_16': None, 'serial_number': None, 'device_type': 'environment_sensor_legacy', 'battery_status': None, 'manufacturer': 'garmin'}\n",
      "\n",
      "Message type: device_info\n",
      "{'product': None, 'device_index': 2, 'cum_operating_time': None, 'software_version': None, 'timestamp': datetime.datetime(2017, 11, 3, 23, 53, 31), 'battery_voltage': None, 'hardware_version': None, 'unknown_8': None, 'unknown_9': 100, 'unknown_15': 13213, 'unknown_16': 52, 'serial_number': 24673845, 'device_type': 'heart_rate', 'battery_status': None, 'manufacturer': None}\n",
      "\n",
      "Message type: device_info\n",
      "{'product': None, 'device_index': 3, 'cum_operating_time': None, 'software_version': None, 'timestamp': datetime.datetime(2017, 11, 3, 23, 53, 31), 'battery_voltage': None, 'hardware_version': None, 'unknown_8': None, 'unknown_9': 98, 'unknown_15': 12773, 'unknown_16': 229, 'serial_number': 84610685, 'device_type': 'bike_power', 'battery_status': None, 'manufacturer': None}\n",
      "\n",
      "Message type: event\n",
      "{'timestamp': datetime.datetime(2017, 11, 3, 23, 54, 18), 'event_group': 0, 'timer_trigger': 'manual', 'event': 'timer', 'event_type': 'start'}\n",
      "\n",
      "Message type: lap\n",
      "{'event_type': 'stop', 'total_timer_time': 721.816, 'avg_power': 165, 'avg_heart_rate': 151, 'total_elapsed_time': 768.216, 'lap_trigger': 'manual', 'intensity': None, 'total_work': 118989, 'end_position_long': -1463202512, 'sport': 'cycling', 'start_position_long': -1463202537, 'event': 'lap', 'unknown_30': -1463202838, 'enhanced_avg_speed': 5.991, 'message_index': 5, 'total_calories': 96, 'total_ascent': 0, 'max_cadence': 142, 'total_cycles': 1028, 'left_right_balance': None, 'end_position_lat': 541307543, 'timestamp': datetime.datetime(2017, 11, 4, 0, 3, 50), 'start_time': datetime.datetime(2017, 11, 3, 23, 51, 2), 'start_position_lat': 541307602, 'max_speed': 7.367, 'unknown_29': 541306702, 'unknown_28': -1463200891, 'total_distance': 4324.09, 'unknown_27': 541308804, 'avg_cadence': 90, 'normalized_power': 171, 'total_descent': 61, 'enhanced_max_speed': 7.367, 'max_power': 264, 'max_heart_rate': 177, 'avg_speed': 5.991, 'total_fat_calories': 0}\n",
      "\n",
      "Message type: lap\n",
      "{'event_type': 'stop', 'total_timer_time': 582.236, 'avg_power': 123, 'avg_heart_rate': 136, 'total_elapsed_time': 582.236, 'lap_trigger': 'manual', 'intensity': None, 'total_work': 71323, 'end_position_long': -1463202999, 'sport': 'cycling', 'start_position_long': -1463202500, 'event': 'lap', 'unknown_30': -1463203329, 'enhanced_avg_speed': 5.144, 'message_index': 6, 'total_calories': 31, 'total_ascent': 0, 'max_cadence': 177, 'total_cycles': 802, 'left_right_balance': None, 'end_position_lat': 541306680, 'timestamp': datetime.datetime(2017, 11, 4, 0, 13, 32), 'start_time': datetime.datetime(2017, 11, 4, 0, 3, 50), 'start_position_lat': 541307510, 'max_speed': 6.585, 'unknown_29': 541305957, 'unknown_28': -1463201685, 'total_distance': 2995.06, 'unknown_27': 541309081, 'avg_cadence': 89, 'normalized_power': 135, 'total_descent': 0, 'enhanced_max_speed': 6.585, 'max_power': 191, 'max_heart_rate': 168, 'avg_speed': 5.144, 'total_fat_calories': 0}\n",
      "\n",
      "Message type: event\n",
      "{'timestamp': datetime.datetime(2017, 11, 4, 0, 15, 32), 'event_group': 0, 'timer_trigger': 'manual', 'event': 'timer', 'event_type': 'stop_all'}\n",
      "\n",
      "Message type: device_info\n",
      "{'device_index': 'creator', 'cum_operating_time': None, 'software_version': 3.3, 'timestamp': datetime.datetime(2017, 11, 4, 0, 15, 32), 'battery_voltage': None, 'hardware_version': None, 'unknown_8': None, 'unknown_9': None, 'garmin_product': 'edge500', 'unknown_15': None, 'unknown_16': None, 'serial_number': 3888613190, 'device_type': 'antfs', 'battery_status': None, 'manufacturer': 'garmin'}\n",
      "\n",
      "Message type: device_info\n",
      "{'product': None, 'device_index': 1, 'cum_operating_time': None, 'software_version': None, 'timestamp': datetime.datetime(2017, 11, 4, 0, 15, 32), 'battery_voltage': None, 'hardware_version': None, 'unknown_8': None, 'unknown_9': None, 'unknown_15': None, 'unknown_16': None, 'serial_number': None, 'device_type': 'environment_sensor_legacy', 'battery_status': None, 'manufacturer': None}\n",
      "\n",
      "Message type: device_info\n",
      "{'device_index': 4, 'cum_operating_time': None, 'software_version': 2.6, 'timestamp': datetime.datetime(2017, 11, 4, 0, 15, 32), 'battery_voltage': None, 'hardware_version': None, 'unknown_8': None, 'unknown_9': None, 'garmin_product': 979, 'unknown_15': None, 'unknown_16': None, 'serial_number': None, 'device_type': 'environment_sensor_legacy', 'battery_status': None, 'manufacturer': 'garmin'}\n",
      "\n",
      "Message type: device_info\n",
      "{'product': None, 'device_index': 2, 'cum_operating_time': None, 'software_version': None, 'timestamp': datetime.datetime(2017, 11, 4, 0, 15, 32), 'battery_voltage': None, 'hardware_version': None, 'unknown_8': None, 'unknown_9': 100, 'unknown_15': 18508, 'unknown_16': 75, 'serial_number': 24673845, 'device_type': 'heart_rate', 'battery_status': None, 'manufacturer': None}\n",
      "\n",
      "Message type: device_info\n",
      "{'product': None, 'device_index': 3, 'cum_operating_time': None, 'software_version': None, 'timestamp': datetime.datetime(2017, 11, 4, 0, 15, 32), 'battery_voltage': None, 'hardware_version': None, 'unknown_8': None, 'unknown_9': 98, 'unknown_15': 17920, 'unknown_16': 321, 'serial_number': 84610685, 'device_type': 'bike_power', 'battery_status': None, 'manufacturer': None}\n",
      "\n",
      "Message type: lap\n",
      "{'event_type': 'stop', 'total_timer_time': 118.951, 'avg_power': 65, 'avg_heart_rate': 125, 'total_elapsed_time': 118.951, 'lap_trigger': 'session_end', 'intensity': None, 'total_work': 7573, 'end_position_long': -1463201963, 'sport': 'cycling', 'start_position_long': -1463203015, 'event': 'lap', 'unknown_30': -1463203022, 'enhanced_avg_speed': 3.994, 'message_index': 7, 'total_calories': 3, 'total_ascent': 0, 'max_cadence': 130, 'total_cycles': 154, 'left_right_balance': None, 'end_position_lat': 541307935, 'timestamp': datetime.datetime(2017, 11, 4, 0, 15, 42), 'start_time': datetime.datetime(2017, 11, 4, 0, 13, 32), 'start_position_lat': 541306659, 'max_speed': 4.865, 'unknown_29': 541306586, 'unknown_28': -1463201779, 'total_distance': 475.03, 'unknown_27': 541308128, 'avg_cadence': 89, 'normalized_power': 87, 'total_descent': 0, 'enhanced_max_speed': 4.865, 'max_power': 100, 'max_heart_rate': 155, 'avg_speed': 3.994, 'total_fat_calories': 0}\n",
      "\n",
      "Message type: event\n",
      "{'timestamp': datetime.datetime(2017, 11, 4, 0, 15, 42), 'event_group': 1, 'data': 1, 'event': 'session', 'event_type': 'stop_disable_all'}\n",
      "\n",
      "Message type: session\n",
      "{'event_type': 'stop', 'total_timer_time': 4501.013, 'first_lap_index': 0, 'avg_power': 136, 'avg_heart_rate': 134, 'total_elapsed_time': 4602.355, 'total_work': 612976, 'num_laps': 8, 'sport': 'cycling', 'start_position_long': -1463202950, 'event': 'lap', 'max_cadence': 186, 'message_index': 0, 'sub_sport': 'generic', 'total_calories': 319, 'trigger': 'activity_end', 'nec_long': -1463200891, 'total_ascent': 59, 'total_training_effect': None, 'total_cycles': 6611, 'left_right_balance': None, 'enhanced_avg_speed': 5.334, 'swc_long': -1463204514, 'timestamp': datetime.datetime(2017, 11, 4, 0, 15, 42), 'start_time': datetime.datetime(2017, 11, 3, 22, 58, 49), 'swc_lat': 541305957, 'start_position_lat': 541307315, 'max_speed': 7.367, 'total_distance': 24007.99, 'avg_cadence': 95, 'normalized_power': 162, 'intensity_factor': 0.812, 'total_descent': 61, 'training_stress_score': 81.7, 'threshold_power': 200, 'enhanced_max_speed': 7.367, 'max_power': 290, 'max_heart_rate': 182, 'avg_speed': 5.334, 'nec_lat': 541309292, 'total_fat_calories': 0}\n",
      "\n",
      "Message type: activity\n",
      "{'num_sessions': 1, 'event_type': 'stop', 'total_timer_time': 4501.013, 'timestamp': datetime.datetime(2017, 11, 4, 0, 15, 42), 'type': 'manual', 'event': 'activity'}\n",
      "\n"
     ]
    }
   ],
   "source": [
    "# Dump all 'non-record' records\n",
    "for msg in messages:\n",
    "    if msg.name != 'record' and msg.name != 'unknown_22':\n",
    "        print 'Message type: {}'.format(msg.name)\n",
    "        print msg.get_values()\n",
    "        print ''"
   ]
  },
  {
   "cell_type": "code",
   "execution_count": 13,
   "metadata": {
    "collapsed": false
   },
   "outputs": [
    {
     "name": "stdout",
     "output_type": "stream",
     "text": [
      "Message type: event\n",
      "{'timestamp': datetime.datetime(2017, 11, 3, 22, 58, 49), 'event_group': 0, 'timer_trigger': 'manual', 'event': 'timer', 'event_type': 'start'}\n",
      "\n",
      "Message type: event\n",
      "{'timestamp': datetime.datetime(2017, 11, 3, 23, 13, 52), 'event_group': 0, 'timer_trigger': 'manual', 'event': 'timer', 'event_type': 'stop_all'}\n",
      "\n",
      "Message type: event\n",
      "{'timestamp': datetime.datetime(2017, 11, 3, 23, 14, 47), 'event_group': 0, 'timer_trigger': 'manual', 'event': 'timer', 'event_type': 'start'}\n",
      "\n",
      "Message type: lap\n",
      "{'event_type': 'stop', 'total_timer_time': 911.942, 'avg_power': 103, 'avg_heart_rate': 100, 'total_elapsed_time': 966.884, 'lap_trigger': 'manual', 'intensity': None, 'total_work': 93693, 'end_position_long': -1463202362, 'sport': 'cycling', 'start_position_long': -1463202950, 'event': 'lap', 'unknown_30': -1463204124, 'enhanced_avg_speed': 4.988, 'message_index': 0, 'total_calories': 49, 'total_ascent': 59, 'max_cadence': 186, 'total_cycles': 1544, 'left_right_balance': None, 'end_position_lat': 541307882, 'timestamp': datetime.datetime(2017, 11, 3, 23, 14, 56), 'start_time': datetime.datetime(2017, 11, 3, 22, 58, 49), 'start_position_lat': 541307315, 'max_speed': 7.199, 'unknown_29': 541306907, 'unknown_28': -1463202152, 'total_distance': 4548.46, 'unknown_27': 541308159, 'avg_cadence': 105, 'normalized_power': 129, 'total_descent': 0, 'enhanced_max_speed': 7.199, 'max_power': 281, 'max_heart_rate': 142, 'avg_speed': 4.988, 'total_fat_calories': 0}\n",
      "\n",
      "Message type: lap\n",
      "{'event_type': 'stop', 'total_timer_time': 720.991, 'avg_power': 188, 'avg_heart_rate': 146, 'total_elapsed_time': 720.991, 'lap_trigger': 'manual', 'intensity': None, 'total_work': 135144, 'end_position_long': -1463203298, 'sport': 'cycling', 'start_position_long': -1463202350, 'event': 'lap', 'unknown_30': -1463203602, 'enhanced_avg_speed': 6.1, 'message_index': 1, 'total_calories': 23, 'total_ascent': 0, 'max_cadence': 122, 'total_cycles': 1078, 'left_right_balance': None, 'end_position_lat': 541308682, 'timestamp': datetime.datetime(2017, 11, 3, 23, 26, 57), 'start_time': datetime.datetime(2017, 11, 3, 23, 14, 56), 'start_position_lat': 541307878, 'max_speed': 7.237, 'unknown_29': 541306256, 'unknown_28': -1463201642, 'total_distance': 4398.04, 'unknown_27': 541308823, 'avg_cadence': 93, 'normalized_power': 193, 'total_descent': 0, 'enhanced_max_speed': 7.237, 'max_power': 290, 'max_heart_rate': 162, 'avg_speed': 6.1, 'total_fat_calories': 0}\n",
      "\n",
      "Message type: lap\n",
      "{'event_type': 'stop', 'total_timer_time': 362.183, 'avg_power': 73, 'avg_heart_rate': 118, 'total_elapsed_time': 362.183, 'lap_trigger': 'manual', 'intensity': None, 'total_work': 26386, 'end_position_long': -1463202585, 'sport': 'cycling', 'start_position_long': -1463203308, 'event': 'lap', 'unknown_30': -1463204514, 'enhanced_avg_speed': 3.704, 'message_index': 2, 'total_calories': 13, 'total_ascent': 0, 'max_cadence': 170, 'total_cycles': 492, 'left_right_balance': None, 'end_position_lat': 541307196, 'timestamp': datetime.datetime(2017, 11, 3, 23, 32, 59), 'start_time': datetime.datetime(2017, 11, 3, 23, 26, 57), 'start_position_lat': 541308685, 'max_speed': 6.502, 'unknown_29': 541306829, 'unknown_28': -1463202492, 'total_distance': 1341.68, 'unknown_27': 541309292, 'avg_cadence': 101, 'normalized_power': 93, 'total_descent': 0, 'enhanced_max_speed': 6.502, 'max_power': 128, 'max_heart_rate': 156, 'avg_speed': 3.704, 'total_fat_calories': 0}\n",
      "\n",
      "Message type: lap\n",
      "{'event_type': 'stop', 'total_timer_time': 720.967, 'avg_power': 185, 'avg_heart_rate': 162, 'total_elapsed_time': 720.967, 'lap_trigger': 'manual', 'intensity': None, 'total_work': 133610, 'end_position_long': -1463202700, 'sport': 'cycling', 'start_position_long': -1463202590, 'event': 'lap', 'unknown_30': -1463203623, 'enhanced_avg_speed': 6.318, 'message_index': 3, 'total_calories': 90, 'total_ascent': 0, 'max_cadence': 141, 'total_cycles': 1082, 'left_right_balance': None, 'end_position_lat': 541306762, 'timestamp': datetime.datetime(2017, 11, 3, 23, 45), 'start_time': datetime.datetime(2017, 11, 3, 23, 32, 59), 'start_position_lat': 541307204, 'max_speed': 7.237, 'unknown_29': 541306210, 'unknown_28': -1463201232, 'total_distance': 4554.8, 'unknown_27': 541308098, 'avg_cadence': 92, 'normalized_power': 192, 'total_descent': 0, 'enhanced_max_speed': 7.237, 'max_power': 265, 'max_heart_rate': 182, 'avg_speed': 6.318, 'total_fat_calories': 0}\n",
      "\n",
      "Message type: lap\n",
      "{'event_type': 'stop', 'total_timer_time': 361.927, 'avg_power': 73, 'avg_heart_rate': 128, 'total_elapsed_time': 361.927, 'lap_trigger': 'manual', 'intensity': None, 'total_work': 26258, 'end_position_long': -1463202500, 'sport': 'cycling', 'start_position_long': -1463202701, 'event': 'lap', 'unknown_30': -1463202848, 'enhanced_avg_speed': 3.788, 'message_index': 4, 'total_calories': 14, 'total_ascent': 0, 'max_cadence': 152, 'total_cycles': 432, 'left_right_balance': None, 'end_position_lat': 541307605, 'timestamp': datetime.datetime(2017, 11, 3, 23, 51, 2), 'start_time': datetime.datetime(2017, 11, 3, 23, 45), 'start_position_lat': 541306735, 'max_speed': 6.628, 'unknown_29': 541306419, 'unknown_28': -1463201195, 'total_distance': 1370.83, 'unknown_27': 541308702, 'avg_cadence': 92, 'normalized_power': 94, 'total_descent': 0, 'enhanced_max_speed': 6.628, 'max_power': 181, 'max_heart_rate': 170, 'avg_speed': 3.788, 'total_fat_calories': 0}\n",
      "\n",
      "Message type: event\n",
      "{'timestamp': datetime.datetime(2017, 11, 3, 23, 53, 31), 'event_group': 0, 'timer_trigger': 'manual', 'event': 'timer', 'event_type': 'stop_all'}\n",
      "\n",
      "Message type: event\n",
      "{'timestamp': datetime.datetime(2017, 11, 3, 23, 54, 18), 'event_group': 0, 'timer_trigger': 'manual', 'event': 'timer', 'event_type': 'start'}\n",
      "\n",
      "Message type: lap\n",
      "{'event_type': 'stop', 'total_timer_time': 721.816, 'avg_power': 165, 'avg_heart_rate': 151, 'total_elapsed_time': 768.216, 'lap_trigger': 'manual', 'intensity': None, 'total_work': 118989, 'end_position_long': -1463202512, 'sport': 'cycling', 'start_position_long': -1463202537, 'event': 'lap', 'unknown_30': -1463202838, 'enhanced_avg_speed': 5.991, 'message_index': 5, 'total_calories': 96, 'total_ascent': 0, 'max_cadence': 142, 'total_cycles': 1028, 'left_right_balance': None, 'end_position_lat': 541307543, 'timestamp': datetime.datetime(2017, 11, 4, 0, 3, 50), 'start_time': datetime.datetime(2017, 11, 3, 23, 51, 2), 'start_position_lat': 541307602, 'max_speed': 7.367, 'unknown_29': 541306702, 'unknown_28': -1463200891, 'total_distance': 4324.09, 'unknown_27': 541308804, 'avg_cadence': 90, 'normalized_power': 171, 'total_descent': 61, 'enhanced_max_speed': 7.367, 'max_power': 264, 'max_heart_rate': 177, 'avg_speed': 5.991, 'total_fat_calories': 0}\n",
      "\n",
      "Message type: lap\n",
      "{'event_type': 'stop', 'total_timer_time': 582.236, 'avg_power': 123, 'avg_heart_rate': 136, 'total_elapsed_time': 582.236, 'lap_trigger': 'manual', 'intensity': None, 'total_work': 71323, 'end_position_long': -1463202999, 'sport': 'cycling', 'start_position_long': -1463202500, 'event': 'lap', 'unknown_30': -1463203329, 'enhanced_avg_speed': 5.144, 'message_index': 6, 'total_calories': 31, 'total_ascent': 0, 'max_cadence': 177, 'total_cycles': 802, 'left_right_balance': None, 'end_position_lat': 541306680, 'timestamp': datetime.datetime(2017, 11, 4, 0, 13, 32), 'start_time': datetime.datetime(2017, 11, 4, 0, 3, 50), 'start_position_lat': 541307510, 'max_speed': 6.585, 'unknown_29': 541305957, 'unknown_28': -1463201685, 'total_distance': 2995.06, 'unknown_27': 541309081, 'avg_cadence': 89, 'normalized_power': 135, 'total_descent': 0, 'enhanced_max_speed': 6.585, 'max_power': 191, 'max_heart_rate': 168, 'avg_speed': 5.144, 'total_fat_calories': 0}\n",
      "\n",
      "Message type: event\n",
      "{'timestamp': datetime.datetime(2017, 11, 4, 0, 15, 32), 'event_group': 0, 'timer_trigger': 'manual', 'event': 'timer', 'event_type': 'stop_all'}\n",
      "\n",
      "Message type: lap\n",
      "{'event_type': 'stop', 'total_timer_time': 118.951, 'avg_power': 65, 'avg_heart_rate': 125, 'total_elapsed_time': 118.951, 'lap_trigger': 'session_end', 'intensity': None, 'total_work': 7573, 'end_position_long': -1463201963, 'sport': 'cycling', 'start_position_long': -1463203015, 'event': 'lap', 'unknown_30': -1463203022, 'enhanced_avg_speed': 3.994, 'message_index': 7, 'total_calories': 3, 'total_ascent': 0, 'max_cadence': 130, 'total_cycles': 154, 'left_right_balance': None, 'end_position_lat': 541307935, 'timestamp': datetime.datetime(2017, 11, 4, 0, 15, 42), 'start_time': datetime.datetime(2017, 11, 4, 0, 13, 32), 'start_position_lat': 541306659, 'max_speed': 4.865, 'unknown_29': 541306586, 'unknown_28': -1463201779, 'total_distance': 475.03, 'unknown_27': 541308128, 'avg_cadence': 89, 'normalized_power': 87, 'total_descent': 0, 'enhanced_max_speed': 4.865, 'max_power': 100, 'max_heart_rate': 155, 'avg_speed': 3.994, 'total_fat_calories': 0}\n",
      "\n",
      "Message type: event\n",
      "{'timestamp': datetime.datetime(2017, 11, 4, 0, 15, 42), 'event_group': 1, 'data': 1, 'event': 'session', 'event_type': 'stop_disable_all'}\n",
      "\n",
      "Message type: session\n",
      "{'event_type': 'stop', 'total_timer_time': 4501.013, 'first_lap_index': 0, 'avg_power': 136, 'avg_heart_rate': 134, 'total_elapsed_time': 4602.355, 'total_work': 612976, 'num_laps': 8, 'sport': 'cycling', 'start_position_long': -1463202950, 'event': 'lap', 'max_cadence': 186, 'message_index': 0, 'sub_sport': 'generic', 'total_calories': 319, 'trigger': 'activity_end', 'nec_long': -1463200891, 'total_ascent': 59, 'total_training_effect': None, 'total_cycles': 6611, 'left_right_balance': None, 'enhanced_avg_speed': 5.334, 'swc_long': -1463204514, 'timestamp': datetime.datetime(2017, 11, 4, 0, 15, 42), 'start_time': datetime.datetime(2017, 11, 3, 22, 58, 49), 'swc_lat': 541305957, 'start_position_lat': 541307315, 'max_speed': 7.367, 'total_distance': 24007.99, 'avg_cadence': 95, 'normalized_power': 162, 'intensity_factor': 0.812, 'total_descent': 61, 'training_stress_score': 81.7, 'threshold_power': 200, 'enhanced_max_speed': 7.367, 'max_power': 290, 'max_heart_rate': 182, 'avg_speed': 5.334, 'nec_lat': 541309292, 'total_fat_calories': 0}\n",
      "\n"
     ]
    }
   ],
   "source": [
    "# Next - extract session start, session end, laps\n",
    "for msg in messages:\n",
    "    if msg.name == 'session' or msg.name == 'lap' or msg.name == 'event':\n",
    "        print 'Message type: {}'.format(msg.name)\n",
    "        print msg.get_values()\n",
    "        print ''"
   ]
  },
  {
   "cell_type": "code",
   "execution_count": 14,
   "metadata": {
    "collapsed": false
   },
   "outputs": [
    {
     "name": "stdout",
     "output_type": "stream",
     "text": [
      "[datetime.datetime(2017, 11, 3, 22, 58, 49), datetime.datetime(2017, 11, 3, 23, 14, 56), datetime.datetime(2017, 11, 3, 23, 26, 57), datetime.datetime(2017, 11, 3, 23, 32, 59), datetime.datetime(2017, 11, 3, 23, 45), datetime.datetime(2017, 11, 3, 23, 51, 2), datetime.datetime(2017, 11, 4, 0, 3, 50), datetime.datetime(2017, 11, 4, 0, 13, 32)]\n"
     ]
    }
   ],
   "source": [
    "# Get laps\n",
    "laps = []\n",
    "for msg in messages:\n",
    "    if msg.name == 'lap':\n",
    "        laps.append(msg)\n",
    "        \n",
    "start_times = map(lambda x:x.get_value('start_time'), laps)\n",
    "print start_times"
   ]
  },
  {
   "cell_type": "code",
   "execution_count": 15,
   "metadata": {
    "collapsed": false
   },
   "outputs": [
    {
     "name": "stdout",
     "output_type": "stream",
     "text": [
      "{'event_type': 'stop', 'total_timer_time': 911.942, 'avg_power': 103, 'avg_heart_rate': 100, 'total_elapsed_time': 966.884, 'lap_trigger': 'manual', 'intensity': None, 'total_work': 93693, 'end_position_long': -1463202362, 'sport': 'cycling', 'start_position_long': -1463202950, 'event': 'lap', 'unknown_30': -1463204124, 'enhanced_avg_speed': 4.988, 'message_index': 0, 'total_calories': 49, 'total_ascent': 59, 'max_cadence': 186, 'total_cycles': 1544, 'left_right_balance': None, 'end_position_lat': 541307882, 'timestamp': datetime.datetime(2017, 11, 3, 23, 14, 56), 'start_time': datetime.datetime(2017, 11, 3, 22, 58, 49), 'start_position_lat': 541307315, 'max_speed': 7.199, 'unknown_29': 541306907, 'unknown_28': -1463202152, 'total_distance': 4548.46, 'unknown_27': 541308159, 'avg_cadence': 105, 'normalized_power': 129, 'total_descent': 0, 'enhanced_max_speed': 7.199, 'max_power': 281, 'max_heart_rate': 142, 'avg_speed': 4.988, 'total_fat_calories': 0}\n",
      "4501.013\n",
      "75.0168833333\n"
     ]
    }
   ],
   "source": [
    "print laps[0].get_values()\n",
    "\n",
    "lap_time_sum = 0\n",
    "for lap in laps:\n",
    "    lap_time_sum += lap.get_value('total_timer_time')\n",
    "    \n",
    "print lap_time_sum\n",
    "print lap_time_sum/60"
   ]
  },
  {
   "cell_type": "code",
   "execution_count": 16,
   "metadata": {
    "collapsed": false
   },
   "outputs": [
    {
     "name": "stdout",
     "output_type": "stream",
     "text": [
      "[0, 1]\n",
      "[0, 1]\n",
      "[3, 4]\n"
     ]
    }
   ],
   "source": [
    "# Slicing arrays in python\n",
    "foo = [0,1,2,3,4,5]\n",
    "print foo[:2]\n",
    "print foo[0:2]\n",
    "print foo[3:5]\n"
   ]
  },
  {
   "cell_type": "code",
   "execution_count": 17,
   "metadata": {
    "collapsed": true
   },
   "outputs": [],
   "source": [
    "def records_by_lap(messages, lap_no):\n",
    "    lap_records=[]\n",
    "    laps_found = 0\n",
    "    last_idx = 0\n",
    "    idx = 0\n",
    "    lap_records.append([])\n",
    "    for msg in messages:\n",
    "        lap_records[laps_found].append(msg)\n",
    "        if msg.name == 'lap':\n",
    "            laps_found += 1\n",
    "            lap_records.append([])\n",
    "            print 'lap {} found at {}'.format(laps_found, idx)\n",
    "            \n",
    "        idx += 1\n",
    "        \n",
    "    return lap_records\n",
    "        \n",
    "    "
   ]
  },
  {
   "cell_type": "code",
   "execution_count": 18,
   "metadata": {
    "collapsed": false
   },
   "outputs": [
    {
     "name": "stdout",
     "output_type": "stream",
     "text": [
      "lap 1 found at 940\n",
      "lap 2 found at 1665\n",
      "lap 3 found at 2031\n",
      "lap 4 found at 2753\n",
      "lap 5 found at 3116\n",
      "lap 6 found at 3850\n",
      "lap 7 found at 4437\n",
      "lap 8 found at 4560\n",
      "9\n"
     ]
    }
   ],
   "source": [
    "rbl = records_by_lap(messages, 1)\n",
    "print len(rbl)"
   ]
  },
  {
   "cell_type": "code",
   "execution_count": 19,
   "metadata": {
    "collapsed": false
   },
   "outputs": [
    {
     "name": "stdout",
     "output_type": "stream",
     "text": [
      "[73, 73, 73, 73, 73, 74, 74, 74, 75, 75, 75, 75, 76, 76, 76, 77, 77, 78, 79, 79, 80, 80, 81, 81, 82, 82, 82, 82, 83, 82, 83, 83, 83, 83, 83, 83, 84, 83, 83, 83, 83, 83, 83, 83, 83, 83, 82, 82, 82, 82, 82, 82, 81, 81, 81, 80, 80, 79, 79, 78, 78, 77, 77, 77, 77, 77, 77, 76, 76, 76, 76, 76, 76, 76, 76, 76, 76, 76, 76, 76, 76, 76, 76, 76, 76, 76, 76, 76, 76, 76, 76, 76, 76, 76, 77, 77, 77, 77, 78, 78, 79, 79, 80, 80, 80, 80, 80, 80, 80, 81, 81, 81, 81, 82, 82, 81, 82, 82, 83, 83, 83, 84, 84, 85, 85, 85, 86, 86, 86, 86, 86, 86, 86, 86, 86, 86, 86, 86, 86, 86, 86, 86, 86, 86, 86, 86, 86, 86, 86, 86, 86, 86, 87, 87, 87, 87, 87, 87, 87, 87, 87, 87, 87, 87, 86, 86, 86, 86, 86, 87, 87, 87, 87, 87, 87, 87, 88, 88, 88, 88, 88, 88, 88, 88, 87, 87, 87, 87, 87, 86, 86, 86, 86, 86, 86, 86, 86, 86, 86, 86, 86, 85, 85, 85, 85, 85, 85, 85, 85, 85, 86, 86, 85, 86, 86, 86, 86, 86, 86, 86, 86, 86, 84, 84, 85, 85, 85, 86, 86, 87, 87, 87, 87, 86, 87, 87, 87, 88, 88, 88, 88, 89, 89, 89, 89, 90, 90, 90, 90, 90, 90, 89, 89, 90, 90, 90, 90, 90, 90, 90, 89, 89, 89, 89, 88, 87, 87, 87, 87, 87, 86, 86, 86, 86, 86, 86, 86, 86, 86, 86, 86, 86, 86, 86, 86, 86, 86, 85, 85, 85, 85, 85, 85, 86, 86, 86, 86, 84, 84, 85, 86, 86, 87, 87, 88, 88, 88, 91, 91, 91, 90, 90, 90, 89, 89, 88, 88, 87, 87, 86, 86, 85, 85, 85, 84, 84, 84, 84, 84, 85, 85, 85, 86, 87, 88, 88, 89, 90, 90, 91, 91, 92, 92, 92, 92, 92, 92, 92, 91, 92, 92, 92, 92, 93, 93, 93, 92, 92, 92, 92, 92, 92, 92, 92, 93, 93, 93, 93, 93, 93, 93, 93, 94, 94, 95, 95, 96, 96, 96, 96, 96, 97, 97, 97, 97, 98, 98, 98, 98, 98, 98, 99, 99, 99, 98, 98, 99, 99, 99, 99, 98, 99, 99, 99, 99, 99, 99, 99, 99, 99, 99, 99, 100, 100, 101, 101, 101, 101, 101, 101, 101, 101, 101, 101, 101, 101, 102, 102, 102, 102, 102, 102, 102, 103, 103, 103, 103, 102, 103, 103, 103, 103, 103, 103, 103, 103, 103, 103, 103, 103, 103, 103, 103, 103, 102, 102, 102, 102, 102, 102, 102, 102, 102, 103, 103, 103, 103, 102, 103, 103, 102, 102, 102, 103, 103, 103, 103, 104, 104, 104, 104, 104, 105, 105, 105, 105, 105, 105, 105, 105, 105, 105, 105, 105, 106, 105, 106, 106, 106, 105, 105, 106, 105, 106, 106, 106, 106, 106, 106, 106, 105, 105, 105, 106, 106, 106, 106, 106, 106, 106, 106, 106, 106, 107, 106, 107, 106, 106, 106, 106, 106, 106, 106, 106, 106, 106, 107, 106, 106, 106, 106, 106, 106, 106, 105, 106, 106, 106, 106, 106, 106, 106, 106, 106, 106, 106, 107, 107, 107, 106, 107, 107, 107, 107, 107, 107, 107, 107, 107, 107, 107, 107, 107, 107, 106, 106, 107, 107, 107, 107, 107, 106, 107, 106, 107, 106, 106, 107, 107, 107, 107, 107, 107, 107, 106, 107, 106, 106, 107, 107, 107, 108, 108, 108, 108, 108, 108, 108, 108, 108, 108, 109, 108, 108, 107, 106, 106, 104, 104, 102, 102, 102, 100, 99, 99, 99, 100, 101, 100, 100, 99, 98, 98, 98, 98, 98, 98, 98, 97, 97, 96, 96, 96, 96, 96, 96, 96, 94, 94, 94, 94, 95, 95, 95, 95, 95, 96, 96, 96, 96, 96, 95, 95, 95, 96, 95, 96, 95, 96, 96, 96, 96, 96, 97, 97, 97, 97, 98, 98, 99, 99, 100, 101, 101, 102, 102, 102, 102, 102, 103, 105, 106, 107, 109, 109, 109, 110, 111, 112, 113, 114, 115, 115, 116, 116, 116, 116, 116, 117, 117, 118, 118, 118, 118, 118, 118, 121, 122, 123, 123, 121, 120, 120, 119, 119, 119, 119, 119, 119, 119, 118, 118, 118, 118, 118, 118, 120, 120, 120, 120, 120, 118, 117, 116, 116, 115, 115, 114, 114, 113, 113, 113, 112, 111, 111, 111, 110, 110, 110, 110, 109, 109, 108, 108, 110, 111, 111, 111, 111, 111, 111, 109, 108, 107, 107, 107, 106, 105, 104, 102, 102, 102, 102, 102, 101, 102, 102, 102, 102, 102, 102, 101, 102, 102, 102, 102, 107, 111, 111, 113, 117, 117, 116, 117, 118, 120, 123, 123, 123, 124, 124, 124, 125, 127, 127, 127, 127, 128, 129, 129, 130, 130, 130, 129, 129, 130, 130, 130, 130, 130, 130, 132, 133, 134, 133, 133, 133, 133, 131, 132, 134, 135, 135, 135, 137, 137, 137, 138, 138, 138, 139, 139, 139, 139, 139, 139, 139, 139, 139, 140, 141, 141, 140, 140, 141, 141, 141, 141, 141, 141, 141, 142, 142, 142, 142, 140, 140, 139, 139, 139, 138, 138, 138, 138, 138, 138, 138, 138, 137, 137, 136, 136, 135, 135, 135, 135, 135, 135, 134, 134, 135, 135, 135, 135, 78, 78, 78, 81, 83, 83, 82, 82, 83, 83]\n"
     ]
    }
   ],
   "source": [
    "print filter(lambda x:x != None, map(lambda x:x.get_value('heart_rate'), rbl[0]))"
   ]
  },
  {
   "cell_type": "code",
   "execution_count": 20,
   "metadata": {
    "collapsed": false
   },
   "outputs": [
    {
     "name": "stdout",
     "output_type": "stream",
     "text": [
      "100\n"
     ]
    }
   ],
   "source": [
    "import numpy as np\n",
    "print int(round(np.average(filter(lambda x:x != None, map(lambda x:x.get_value('heart_rate'), rbl[0])))))"
   ]
  },
  {
   "cell_type": "code",
   "execution_count": 21,
   "metadata": {
    "collapsed": true
   },
   "outputs": [],
   "source": [
    "import numpy as np\n",
    "\n",
    "def average_val_for_field(records, field_name):\n",
    "    fields = map(lambda x:x.get_value(field_name), records)\n",
    "    fields_with_vals = filter(lambda x:x != None, fields)\n",
    "    avg = int(round(np.average(fields_with_vals)))\n",
    "    return avg"
   ]
  },
  {
   "cell_type": "code",
   "execution_count": 22,
   "metadata": {
    "collapsed": false
   },
   "outputs": [
    {
     "name": "stdout",
     "output_type": "stream",
     "text": [
      "100\n"
     ]
    }
   ],
   "source": [
    "print laps[0].get_value('avg_heart_rate')"
   ]
  },
  {
   "cell_type": "code",
   "execution_count": 23,
   "metadata": {
    "collapsed": false
   },
   "outputs": [
    {
     "name": "stdout",
     "output_type": "stream",
     "text": [
      "100\n",
      "103\n"
     ]
    }
   ],
   "source": [
    "print average_val_for_field(rbl[0], 'heart_rate')\n",
    "print average_val_for_field(rbl[0], 'power')"
   ]
  },
  {
   "cell_type": "code",
   "execution_count": 24,
   "metadata": {
    "collapsed": true
   },
   "outputs": [],
   "source": [
    "import pandas as pd"
   ]
  },
  {
   "cell_type": "code",
   "execution_count": 25,
   "metadata": {
    "collapsed": false
   },
   "outputs": [
    {
     "name": "stdout",
     "output_type": "stream",
     "text": [
      "0        NaN\n",
      "1        NaN\n",
      "2        0.0\n",
      "3       43.0\n",
      "4       53.0\n",
      "5       46.0\n",
      "6       45.0\n",
      "7       46.0\n",
      "8       48.0\n",
      "9       48.0\n",
      "10      48.0\n",
      "11      50.0\n",
      "12      55.0\n",
      "13      44.0\n",
      "14      50.0\n",
      "15      46.0\n",
      "16      46.0\n",
      "17      40.0\n",
      "18      49.0\n",
      "19      45.0\n",
      "20      44.0\n",
      "21      45.0\n",
      "22      45.0\n",
      "23      43.0\n",
      "24      45.0\n",
      "25      47.0\n",
      "26      45.0\n",
      "27      40.0\n",
      "28      47.0\n",
      "29      44.0\n",
      "       ...  \n",
      "884     91.0\n",
      "885    104.0\n",
      "886    100.0\n",
      "887    101.0\n",
      "888     99.0\n",
      "889    101.0\n",
      "890    100.0\n",
      "891    102.0\n",
      "892    100.0\n",
      "893    108.0\n",
      "894    103.0\n",
      "895    110.0\n",
      "896    111.0\n",
      "897    111.0\n",
      "898    106.0\n",
      "899    108.0\n",
      "900    102.0\n",
      "901    103.0\n",
      "902     60.0\n",
      "903      0.0\n",
      "904    116.0\n",
      "905    108.0\n",
      "906    113.0\n",
      "907    103.0\n",
      "908    106.0\n",
      "909    103.0\n",
      "910    103.0\n",
      "911    104.0\n",
      "912    105.0\n",
      "913    112.0\n",
      "dtype: float64\n"
     ]
    }
   ],
   "source": [
    "s = pd.Series(map(lambda x:x.get_value('power'), filter(lambda x:x.name=='record',rbl[0])))\n",
    "print s"
   ]
  },
  {
   "cell_type": "code",
   "execution_count": 26,
   "metadata": {
    "collapsed": false
   },
   "outputs": [
    {
     "name": "stdout",
     "output_type": "stream",
     "text": [
      "<class 'pandas.core.series.Series'>\n"
     ]
    },
    {
     "data": {
      "text/plain": [
       "count    912.000000\n",
       "mean     102.856360\n",
       "std       50.717618\n",
       "min        0.000000\n",
       "25%       68.000000\n",
       "50%       98.000000\n",
       "75%      131.250000\n",
       "max      281.000000\n",
       "dtype: float64"
      ]
     },
     "execution_count": 26,
     "metadata": {},
     "output_type": "execute_result"
    }
   ],
   "source": [
    "print type(s)\n",
    "s.describe()"
   ]
  },
  {
   "cell_type": "code",
   "execution_count": 27,
   "metadata": {
    "collapsed": false
   },
   "outputs": [
    {
     "name": "stdout",
     "output_type": "stream",
     "text": [
      "<class 'pandas.core.series.Series'>\n"
     ]
    }
   ],
   "source": [
    "rolling_means = s.rolling(window=30,center=False).mean()[31:]\n",
    "print type(rolling_means)"
   ]
  },
  {
   "cell_type": "code",
   "execution_count": 28,
   "metadata": {
    "collapsed": false
   },
   "outputs": [],
   "source": [
    "from math import pow\n",
    "\n",
    "rmp = rolling_means.map(lambda x:pow(x,4))"
   ]
  },
  {
   "cell_type": "code",
   "execution_count": 29,
   "metadata": {
    "collapsed": false
   },
   "outputs": [
    {
     "name": "stdout",
     "output_type": "stream",
     "text": [
      "274095350.738\n"
     ]
    }
   ],
   "source": [
    "print rmp.mean()"
   ]
  },
  {
   "cell_type": "code",
   "execution_count": 30,
   "metadata": {
    "collapsed": false
   },
   "outputs": [],
   "source": [
    "np = rmp.mean()**(1/float(4))"
   ]
  },
  {
   "cell_type": "code",
   "execution_count": 31,
   "metadata": {
    "collapsed": false
   },
   "outputs": [
    {
     "name": "stdout",
     "output_type": "stream",
     "text": [
      "129\n",
      "129\n"
     ]
    }
   ],
   "source": [
    "print int(round(np))\n",
    "print laps[0].get_value('normalized_power')"
   ]
  },
  {
   "cell_type": "code",
   "execution_count": 32,
   "metadata": {
    "collapsed": false
   },
   "outputs": [],
   "source": [
    "def extract_record_field(messages, field):\n",
    "    #Get records\n",
    "    records = filter(lambda m:m.name=='record', messages)\n",
    "    fields = map(lambda r:r.get_value(field), records)\n",
    "    return filter(lambda f:f != None, fields)"
   ]
  },
  {
   "cell_type": "code",
   "execution_count": 33,
   "metadata": {
    "collapsed": false
   },
   "outputs": [
    {
     "name": "stdout",
     "output_type": "stream",
     "text": [
      "[0, 43, 53, 46, 45, 46, 48, 48, 48, 50, 55, 44, 50, 46, 46, 40, 49, 45, 44, 45, 45, 43, 45, 47, 45, 40, 47, 44, 42, 51, 46, 42, 43, 44, 38, 48, 46, 40, 44, 44, 42, 47, 42, 43, 46, 41, 40, 43, 38, 43, 37, 44, 42, 39, 43, 38, 46, 44, 40, 43, 40, 46, 43, 38, 46, 42, 43, 44, 40, 44, 46, 45, 50, 52, 47, 41, 44, 47, 45, 42, 48, 47, 41, 45, 51, 67, 61, 52, 54, 53, 57, 59, 58, 73, 82, 76, 77, 70, 78, 70, 68, 63, 68, 67, 66, 66, 68, 64, 66, 67, 67, 65, 68, 67, 67, 67, 61, 64, 64, 67, 62, 62, 64, 72, 68, 68, 69, 67, 71, 65, 75, 66, 68, 68, 65, 68, 66, 67, 69, 65, 68, 68, 62, 69, 63, 66, 65, 68, 66, 70, 65, 66, 64, 65, 68, 65, 65, 65, 67, 66, 66, 67, 72, 73, 69, 63, 71, 68, 68, 62, 69, 68, 72, 65, 69, 66, 68, 64, 67, 65, 67, 65, 65, 64, 67, 67, 67, 68, 69, 67, 60, 65, 63, 67, 62, 62, 62, 64, 66, 60, 63, 63, 55, 69, 85, 70, 67, 69, 69, 70, 65, 67, 66, 69, 69, 68, 68, 74, 69, 69, 65, 73, 70, 74, 70, 79, 85, 79, 81, 81, 77, 87, 78, 83, 77, 83, 81, 83, 83, 83, 85, 87, 86, 85, 85, 83, 84, 82, 86, 79, 83, 80, 86, 78, 86, 79, 36, 0, 0, 0, 0, 0, 0, 0, 0, 0, 54, 93, 84, 91, 83, 82, 83, 84, 88, 84, 89, 84, 90, 89, 91, 87, 94, 87, 95, 89, 90, 84, 90, 90, 95, 87, 101, 87, 98, 86, 88, 87, 88, 83, 81, 81, 80, 85, 85, 81, 78, 84, 78, 79, 78, 84, 82, 79, 77, 76, 80, 85, 81, 83, 75, 73, 83, 92, 102, 88, 92, 92, 93, 89, 92, 90, 98, 89, 97, 91, 95, 93, 122, 108, 110, 103, 112, 112, 110, 113, 104, 111, 108, 113, 116, 112, 112, 108, 108, 108, 116, 113, 104, 110, 107, 112, 111, 108, 111, 107, 116, 121, 115, 123, 116, 116, 111, 119, 120, 109, 116, 106, 109, 117, 124, 112, 113, 115, 116, 122, 124, 123, 128, 120, 123, 125, 121, 120, 121, 127, 122, 126, 120, 120, 124, 132, 140, 136, 139, 132, 136, 127, 127, 128, 129, 128, 128, 131, 132, 131, 129, 129, 126, 128, 131, 135, 136, 129, 133, 130, 114, 116, 119, 114, 103, 117, 121, 114, 107, 124, 122, 112, 112, 142, 141, 133, 137, 130, 138, 127, 133, 120, 128, 136, 131, 134, 122, 130, 130, 141, 140, 138, 134, 137, 130, 129, 142, 147, 142, 139, 141, 140, 140, 142, 149, 141, 140, 146, 149, 147, 142, 148, 147, 144, 149, 149, 145, 140, 146, 145, 144, 140, 139, 140, 142, 136, 153, 141, 148, 149, 139, 149, 145, 151, 133, 100, 110, 139, 141, 132, 118, 114, 115, 126, 129, 126, 133, 140, 131, 91, 130, 130, 136, 143, 138, 131, 134, 145, 148, 147, 138, 146, 134, 139, 139, 146, 146, 148, 152, 147, 149, 136, 141, 138, 137, 153, 143, 148, 140, 138, 138, 146, 145, 149, 145, 146, 148, 142, 138, 141, 135, 134, 132, 121, 131, 132, 134, 118, 132, 135, 118, 123, 137, 161, 158, 157, 158, 157, 163, 160, 159, 152, 153, 155, 152, 157, 159, 165, 158, 159, 167, 167, 165, 165, 170, 170, 171, 172, 171, 172, 170, 166, 167, 162, 111, 101, 90, 88, 80, 1, 0, 0, 0, 0, 0, 0, 0, 0, 0, 0, 0, 0, 0, 46, 100, 99, 92, 95, 90, 90, 84, 97, 92, 92, 91, 91, 90, 91, 92, 93, 96, 92, 96, 94, 95, 97, 99, 92, 100, 91, 99, 96, 99, 99, 101, 93, 98, 93, 99, 93, 103, 97, 97, 97, 106, 121, 137, 163, 169, 170, 178, 174, 201, 202, 201, 206, 203, 202, 199, 201, 214, 198, 211, 224, 224, 214, 224, 218, 215, 224, 231, 220, 240, 229, 217, 252, 226, 237, 243, 236, 244, 230, 257, 230, 221, 136, 99, 97, 101, 95, 92, 85, 90, 89, 91, 97, 98, 106, 106, 96, 100, 98, 98, 100, 102, 99, 100, 99, 102, 100, 101, 101, 105, 103, 108, 104, 108, 102, 105, 94, 101, 95, 103, 104, 103, 105, 105, 96, 102, 100, 103, 98, 106, 99, 104, 103, 106, 107, 108, 100, 107, 99, 108, 114, 123, 106, 111, 109, 109, 107, 111, 108, 100, 106, 105, 108, 104, 105, 107, 109, 107, 108, 109, 117, 104, 124, 116, 139, 154, 159, 159, 153, 158, 152, 160, 170, 160, 159, 172, 163, 168, 183, 204, 219, 210, 215, 222, 223, 230, 226, 234, 221, 231, 233, 216, 246, 226, 215, 247, 241, 255, 257, 259, 244, 257, 243, 262, 254, 281, 250, 270, 149, 95, 90, 80, 72, 67, 71, 70, 63, 66, 63, 56, 68, 65, 62, 68, 62, 68, 66, 62, 69, 68, 65, 71, 47, 0, 0, 0, 0, 0, 0, 0, 0, 0, 0, 43, 76, 82, 78, 83, 79, 85, 79, 82, 79, 79, 80, 84, 84, 84, 80, 84, 84, 83, 85, 91, 104, 100, 101, 99, 101, 100, 102, 100, 108, 103, 110, 111, 111, 106, 108, 102, 103, 60, 0, 116, 108, 113, 103, 106, 103, 103, 104, 105, 112, 128, 152, 171, 231, 258, 266, 232, 254, 248, 290, 247, 255, 256, 271, 268, 247, 259, 256, 280, 258, 264, 277, 251, 287, 254, 255, 255, 270, 246, 274, 272, 261, 257, 270, 254, 266, 242, 266, 249, 257, 253, 255, 266, 245, 256, 236, 270, 243, 254, 244, 271, 239, 253, 241, 259, 223, 260, 231, 256, 228, 228, 240, 244, 231, 239, 123, 3, 0, 0, 0, 0, 0, 0, 0, 0, 0, 78, 213, 210, 215, 220, 212, 215, 228, 214, 224, 231, 213, 236, 229, 248, 226, 238, 233, 235, 226, 226, 239, 207, 235, 229, 215, 234, 212, 238, 222, 235, 239, 248, 236, 230, 238, 223, 250, 233, 261, 242, 235, 235, 203, 176, 173, 178, 170, 186, 181, 186, 185, 183, 175, 184, 176, 177, 176, 177, 174, 180, 181, 178, 170, 174, 68, 1, 0, 0, 0, 0, 0, 0, 0, 0, 0, 0, 0, 65, 205, 207, 204, 207, 201, 202, 209, 214, 217, 217, 226, 219, 228, 226, 225, 230, 221, 220, 211, 227, 219, 231, 227, 215, 216, 212, 210, 211, 216, 216, 214, 222, 224, 217, 220, 210, 219, 207, 210, 208, 205, 213, 206, 224, 215, 226, 212, 218, 211, 209, 202, 204, 203, 212, 214, 203, 204, 202, 208, 203, 212, 208, 205, 215, 223, 209, 217, 211, 216, 207, 209, 204, 203, 215, 212, 211, 197, 187, 182, 184, 183, 179, 175, 161, 167, 186, 178, 181, 163, 162, 176, 184, 206, 203, 204, 197, 209, 208, 207, 202, 205, 212, 217, 220, 205, 201, 210, 219, 208, 212, 205, 213, 206, 210, 210, 214, 217, 224, 217, 207, 217, 206, 221, 219, 203, 218, 212, 232, 219, 222, 218, 217, 220, 210, 226, 214, 221, 219, 218, 218, 215, 215, 225, 179, 1, 0, 0, 0, 0, 0, 0, 0, 0, 0, 0, 0, 124, 219, 228, 209, 217, 220, 219, 214, 211, 210, 211, 200, 213, 208, 206, 204, 206, 205, 207, 224, 222, 217, 215, 204, 208, 205, 206, 207, 209, 216, 214, 215, 215, 220, 209, 209, 224, 221, 227, 229, 221, 216, 211, 216, 227, 217, 220, 215, 209, 172, 143, 138, 157, 159, 156, 154, 166, 156, 189, 184, 187, 179, 185, 180, 183, 181, 182, 183, 181, 182, 175, 181, 169, 173, 181, 170, 186, 179, 187, 181, 182, 181, 180, 178, 175, 175, 181, 171, 183, 179, 181, 180, 173, 181, 182, 182, 193, 184, 181, 183, 179, 184, 193, 191, 195, 193, 187, 183, 192, 199, 184, 187, 180, 189, 188, 178, 186, 192, 189, 185, 182, 183, 178, 184, 175, 182, 185, 188, 182, 188, 184, 178, 176, 176, 184, 181, 189, 189, 186, 183, 189, 175, 183, 183, 185, 196, 185, 192, 187, 186, 177, 183, 197, 193, 194, 188, 187, 182, 184, 183, 185, 194, 186, 184, 174, 174, 165, 157, 162, 158, 166, 152, 153, 149, 157, 163, 164, 161, 160, 182, 165, 181, 175, 178, 182, 178, 184, 183, 180, 183, 179, 171, 182, 178, 176, 176, 174, 180, 172, 181, 176, 191, 182, 184, 177, 182, 177, 191, 177, 178, 180, 185, 183, 181, 191, 181, 183, 191, 182, 191, 196, 193, 187, 177, 178, 187, 195, 185, 194, 180, 188, 173, 183, 173, 187, 186, 187, 182, 182, 186, 182, 181, 185, 184, 192, 190, 194, 188, 183, 180, 189, 196, 194, 186, 180, 185, 187, 184, 194, 182, 182, 183, 177, 166, 160, 153, 159, 155, 157, 152, 153, 151, 175, 199, 186, 190, 187, 187, 179, 182, 182, 190, 187, 195, 185, 186, 185, 183, 185, 189, 189, 177, 183, 173, 183, 187, 174, 186, 181, 186, 184, 181, 188, 177, 189, 196, 195, 188, 187, 178, 179, 196, 188, 194, 187, 189, 180, 195, 191, 176, 151, 97, 72, 79, 81, 74, 74, 92, 151, 182, 168, 166, 179, 177, 171, 170, 170, 170, 171, 171, 179, 176, 178, 190, 178, 175, 181, 176, 177, 173, 180, 187, 193, 192, 200, 193, 191, 193, 186, 187, 173, 176, 176, 185, 182, 181, 186, 179, 182, 172, 182, 185, 187, 202, 190, 181, 178, 178, 190, 189, 192, 188, 180, 176, 187, 199, 203, 196, 184, 188, 201, 190, 188, 184, 183, 195, 195, 190, 180, 180, 192, 188, 203, 197, 195, 209, 193, 156, 128, 95, 64, 1, 0, 0, 0, 0, 0, 0, 0, 0, 0, 0, 0, 0, 0, 0, 0, 0, 82, 79, 79, 83, 84, 83, 86, 87, 85, 85, 83, 84, 81, 90, 85, 87, 87, 88, 87, 91, 87, 92, 91, 92, 88, 86, 87, 86, 88, 87, 87, 85, 90, 77, 78, 77, 75, 69, 75, 76, 74, 70, 67, 77, 74, 63, 73, 71, 68, 66, 66, 72, 70, 66, 71, 71, 62, 75, 69, 65, 71, 73, 68, 75, 70, 64, 77, 72, 67, 73, 77, 73, 70, 95, 89, 86, 88, 83, 85, 85, 84, 86, 88, 90, 87, 93, 96, 103, 101, 102, 106, 107, 106, 101, 103, 99, 101, 106, 101, 103, 100, 104, 99, 99, 99, 101, 97, 101, 100, 105, 101, 91, 92, 90, 88, 80, 92, 92, 79, 90, 93, 88, 82, 89, 87, 83, 96, 97, 100, 100, 97, 95, 97, 92, 97, 99, 98, 99, 98, 103, 95, 95, 94, 96, 100, 99, 98, 95, 100, 93, 94, 92, 97, 97, 96, 98, 98, 96, 95, 98, 97, 99, 100, 98, 98, 97, 99, 90, 92, 87, 93, 91, 79, 90, 90, 87, 87, 115, 103, 101, 104, 104, 102, 102, 97, 105, 100, 103, 98, 104, 100, 99, 99, 99, 100, 102, 101, 101, 101, 99, 106, 99, 103, 99, 102, 99, 103, 99, 104, 102, 108, 117, 114, 104, 104, 101, 110, 101, 101, 104, 107, 105, 108, 102, 106, 9, 2, 0, 0, 0, 0, 0, 0, 0, 18, 0, 0, 0, 0, 0, 0, 0, 0, 0, 0, 0, 0, 0, 0, 0, 0, 0, 0, 0, 0, 0, 0, 0, 0, 0, 0, 0, 0, 0, 0, 0, 0, 0, 0, 0, 0, 0, 0, 0, 0, 0, 0, 0, 0, 0, 0, 87, 84, 91, 91, 89, 90, 97, 95, 86, 90, 85, 95, 97, 86, 85, 94, 87, 93, 87, 91, 98, 93, 95, 87, 87, 96, 96, 98, 98, 95, 98, 87, 94, 98, 95, 97, 94, 103, 93, 92, 87, 91, 93, 81, 93, 95, 89, 87, 82, 89, 93, 81, 91, 115, 91, 103, 101, 107, 102, 104, 107, 119, 132, 136, 156, 172, 215, 219, 213, 225, 221, 224, 247, 219, 231, 221, 235, 226, 237, 252, 245, 237, 257, 232, 230, 253, 239, 234, 265, 244, 235, 260, 239, 232, 247, 235, 231, 252, 230, 233, 245, 229, 230, 251, 243, 231, 241, 237, 231, 231, 241, 237, 219, 242, 239, 221, 239, 245, 233, 225, 238, 223, 216, 215, 226, 231, 211, 226, 235, 242, 237, 228, 239, 241, 232, 252, 236, 208, 223, 238, 228, 219, 217, 241, 229, 216, 227, 224, 211, 219, 203, 221, 215, 218, 223, 210, 208, 230, 226, 231, 213, 223, 226, 233, 230, 237, 242, 225, 230, 229, 240, 219, 240, 248, 226, 246, 250, 233, 241, 241, 212, 213, 215, 201, 206, 198, 193, 171, 186, 198, 189, 191, 180, 176, 177, 183, 184, 181, 189, 185, 170, 176, 204, 209, 195, 196, 192, 201, 190, 205, 201, 190, 192, 189, 187, 192, 188, 185, 191, 186, 193, 193, 199, 195, 202, 197, 205, 198, 198, 195, 204, 195, 197, 196, 195, 196, 199, 205, 209, 213, 207, 208, 207, 199, 208, 221, 218, 210, 195, 208, 201, 217, 209, 214, 199, 205, 203, 215, 216, 209, 212, 207, 204, 215, 212, 212, 200, 209, 199, 196, 195, 204, 221, 210, 212, 202, 200, 213, 205, 213, 213, 198, 209, 202, 203, 208, 208, 207, 202, 205, 199, 205, 201, 209, 221, 213, 131, 5, 1, 0, 0, 0, 0, 0, 0, 0, 0, 0, 69, 244, 236, 222, 204, 218, 245, 220, 221, 231, 223, 211, 210, 224, 209, 208, 204, 221, 223, 218, 221, 222, 223, 222, 208, 220, 229, 212, 214, 225, 230, 225, 225, 208, 213, 232, 219, 210, 213, 232, 230, 209, 208, 232, 224, 216, 207, 226, 224, 214, 205, 228, 210, 212, 201, 213, 228, 222, 212, 216, 223, 223, 210, 209, 221, 212, 211, 199, 200, 239, 217, 213, 214, 221, 232, 210, 199, 209, 215, 213, 216, 201, 204, 212, 217, 202, 208, 200, 205, 229, 228, 203, 221, 213, 223, 204, 211, 217, 209, 221, 206, 216, 229, 224, 211, 232, 224, 214, 217, 229, 213, 210, 223, 228, 212, 183, 134, 157, 173, 162, 169, 170, 169, 160, 166, 165, 168, 165, 161, 162, 157, 149, 134, 146, 139, 130, 121, 131, 135, 127, 116, 141, 133, 122, 123, 141, 137, 171, 153, 164, 161, 163, 161, 172, 169, 171, 162, 166, 174, 181, 182, 174, 178, 177, 175, 171, 173, 166, 169, 170, 165, 170, 166, 171, 166, 167, 170, 157, 161, 176, 164, 178, 163, 179, 161, 168, 171, 169, 164, 167, 161, 165, 165, 169, 173, 167, 179, 172, 171, 169, 174, 172, 167, 190, 172, 173, 166, 174, 166, 172, 176, 180, 197, 175, 177, 172, 181, 192, 179, 182, 181, 169, 196, 180, 180, 178, 176, 198, 178, 179, 176, 173, 143, 111, 105, 93, 108, 94, 97, 93, 99, 78, 88, 84, 95, 100, 122, 137, 122, 160, 184, 181, 182, 171, 178, 160, 170, 164, 175, 173, 171, 171, 167, 170, 159, 166, 160, 166, 164, 165, 181, 182, 169, 181, 171, 180, 174, 174, 180, 172, 175, 171, 165, 157, 157, 139, 174, 156, 150, 143, 142, 142, 159, 144, 140, 194, 162, 177, 181, 173, 179, 169, 170, 161, 171, 162, 174, 168, 178, 169, 163, 175, 166, 171, 177, 176, 177, 179, 191, 184, 188, 180, 188, 180, 183, 175, 176, 177, 176, 180, 184, 179, 182, 178, 177, 181, 181, 188, 179, 179, 175, 185, 187, 182, 175, 183, 176, 183, 183, 179, 176, 136, 100, 86, 85, 82, 82, 80, 88, 48, 0, 0, 0, 0, 0, 104, 126, 136, 155, 157, 171, 169, 170, 165, 168, 172, 176, 162, 173, 167, 174, 175, 180, 184, 184, 176, 180, 169, 172, 167, 171, 175, 175, 171, 175, 171, 175, 172, 174, 169, 187, 187, 194, 179, 190, 189, 175, 179, 177, 167, 180, 179, 175, 181, 178, 176, 175, 175, 177, 170, 176, 179, 186, 185, 185, 179, 172, 179, 171, 175, 178, 177, 166, 176, 172, 183, 179, 175, 158, 152, 149, 149, 145, 156, 145, 147, 196, 169, 181, 178, 178, 176, 175, 174, 179, 171, 175, 165, 175, 167, 178, 171, 182, 175, 185, 178, 178, 172, 184, 172, 182, 184, 183, 181, 143, 89, 64, 1, 0, 0, 0, 0, 0, 0, 0, 0, 0, 0, 0, 0, 0, 0, 0, 0, 0, 0, 0, 0, 0, 43, 75, 73, 75, 76, 81, 75, 77, 88, 87, 96, 93, 90, 92, 88, 90, 81, 88, 90, 74, 2, 0, 0, 0, 0, 0, 0, 0, 0, 0, 46, 90, 84, 88, 85, 80, 82, 76, 82, 86, 86, 86, 81, 82, 78, 85, 80, 79, 77, 73, 73, 78, 79, 71, 81, 80, 75, 73, 80, 76, 77, 71, 83, 78, 69, 76, 83, 76, 72, 81, 79, 76, 70, 82, 76, 68, 80, 79, 73, 73, 79, 77, 73, 83, 78, 78, 78, 86, 90, 97, 88, 93, 84, 96, 91, 90, 87, 93, 86, 90, 92, 90, 91, 96, 96, 90, 92, 90, 95, 93, 93, 90, 92, 93, 94, 93, 96, 106, 115, 114, 108, 111, 106, 106, 105, 108, 105, 111, 113, 110, 111, 105, 114, 105, 106, 102, 109, 110, 108, 111, 108, 110, 108, 110, 105, 110, 106, 105, 109, 112, 113, 109, 106, 99, 101, 91, 100, 101, 100, 92, 96, 103, 98, 87, 97, 100, 95, 91, 120, 113, 117, 111, 111, 105, 105, 102, 107, 103, 106, 107, 111, 111, 104, 110, 106, 114, 103, 118, 108, 104, 110, 112, 114, 112, 113, 108, 113, 106, 110, 104, 109, 105, 110, 114, 119, 116, 115, 109, 112, 114, 109, 112, 108, 99, 93, 90, 100, 93, 89, 93, 98, 89, 91, 99, 90, 88, 98, 94, 81, 100, 98, 84, 98, 101, 86, 90, 99, 91, 86, 102, 92, 95, 95, 101, 87, 90, 109, 118, 107, 118, 101, 103, 95, 100, 106, 101, 85, 30, 17, 0, 0, 0, 0, 0, 0, 0, 0, 0, 0, 0, 0, 0, 0, 0, 0, 0, 0, 0, 0, 0, 0, 0, 0, 0, 0, 0, 0, 0, 0, 0, 0, 0, 0, 0, 0, 0, 0, 0, 0, 0, 0, 0, 0, 0, 0, 0, 0, 0, 0, 0, 35, 79, 78, 75, 89, 83, 106, 108, 110, 105, 102, 94, 107, 98, 103, 87, 99, 101, 99, 92, 86, 88, 90, 86, 91, 87, 102, 108, 126, 130, 132, 129, 150, 132, 140, 132, 141, 149, 158, 161, 168, 172, 161, 170, 189, 190, 192, 174, 190, 189, 178, 195, 202, 202, 206, 216, 233, 213, 217, 236, 221, 224, 240, 220, 238, 236, 207, 235, 235, 218, 234, 226, 225, 221, 218, 241, 226, 216, 234, 218, 214, 235, 213, 208, 231, 214, 210, 219, 223, 215, 221, 220, 216, 211, 220, 208, 207, 217, 222, 202, 207, 224, 209, 207, 193, 211, 217, 184, 224, 197, 183, 200, 196, 200, 197, 213, 182, 224, 211, 211, 204, 211, 230, 218, 230, 192, 216, 213, 203, 211, 196, 205, 49, 0, 0, 0, 0, 0, 0, 0, 94, 228, 213, 231, 213, 220, 206, 246, 264, 213, 165, 158, 163, 166, 172, 167, 170, 167, 180, 171, 192, 200, 194, 192, 184, 189, 188, 185, 187, 185, 182, 186, 176, 187, 150, 180, 180, 201, 207, 218, 224, 201, 200, 211, 213, 219, 196, 199, 195, 200, 205, 194, 204, 199, 204, 206, 204, 206, 205, 202, 205, 201, 216, 211, 212, 198, 205, 212, 208, 205, 201, 198, 210, 208, 210, 199, 193, 208, 219, 212, 204, 193, 205, 202, 215, 203, 199, 194, 203, 214, 200, 206, 192, 194, 195, 206, 212, 204, 196, 187, 193, 167, 2, 0, 0, 0, 0, 0, 0, 0, 0, 0, 0, 60, 184, 187, 187, 200, 195, 189, 191, 195, 184, 191, 189, 210, 234, 211, 205, 200, 201, 226, 205, 207, 206, 199, 212, 215, 214, 198, 199, 212, 204, 206, 191, 173, 163, 162, 145, 144, 189, 183, 184, 192, 190, 185, 180, 179, 186, 180, 180, 182, 183, 186, 179, 169, 177, 182, 191, 185, 196, 201, 193, 193, 184, 192, 179, 122, 1, 0, 0, 0, 0, 0, 0, 0, 0, 0, 0, 0, 64, 176, 200, 194, 198, 194, 195, 185, 191, 194, 198, 194, 194, 195, 220, 219, 207, 197, 196, 199, 202, 207, 215, 206, 205, 202, 202, 198, 199, 200, 192, 196, 187, 190, 177, 189, 197, 192, 193, 190, 191, 184, 185, 196, 185, 195, 183, 178, 186, 195, 192, 182, 190, 177, 177, 179, 133, 110, 97, 122, 96, 91, 85, 82, 75, 80, 81, 67, 81, 74, 73, 78, 66, 84, 67, 85, 81, 71, 93, 121, 112, 109, 158, 154, 160, 155, 145, 155, 147, 164, 149, 149, 162, 159, 176, 173, 169, 165, 169, 169, 173, 170, 168, 167, 161, 167, 154, 157, 163, 166, 168, 164, 159, 150, 154, 162, 166, 164, 152, 152, 150, 158, 162, 155, 153, 141, 153, 166, 152, 152, 146, 160, 173, 157, 163, 152, 156, 151, 163, 166, 165, 147, 126, 148, 150, 125, 149, 175, 164, 170, 169, 174, 161, 159, 157, 162, 176, 164, 161, 159, 158, 150, 167, 175, 169, 174, 164, 165, 166, 168, 165, 162, 164, 171, 177, 132, 1, 53, 76, 69, 67, 64, 67, 73, 84, 118, 122, 168, 156, 153, 149, 138, 144, 159, 147, 148, 142, 145, 157, 152, 155, 148, 156, 150, 170, 152, 162, 161, 159, 158, 147, 134, 125, 143, 133, 121, 139, 148, 154, 161, 157, 171, 168, 172, 163, 161, 163, 163, 167, 160, 162, 161, 163, 159, 166, 161, 171, 153, 164, 152, 159, 160, 159, 164, 161, 167, 161, 171, 158, 170, 156, 163, 156, 166, 157, 160, 163, 167, 164, 165, 167, 167, 166, 164, 166, 169, 169, 163, 173, 175, 177, 171, 167, 171, 174, 166, 175, 168, 172, 169, 176, 171, 171, 179, 175, 193, 176, 188, 180, 192, 179, 179, 176, 82, 0, 0, 0, 0, 0, 0, 0, 32, 63, 49, 55, 73, 66, 73, 72, 70, 77, 92, 132, 129, 147, 162, 163, 157, 162, 154, 160, 166, 180, 167, 165, 165, 160, 163, 157, 170, 171, 183, 170, 178, 175, 173, 168, 173, 166, 174, 171, 177, 187, 195, 179, 175, 173, 181, 174, 175, 173, 177, 178, 174, 173, 171, 176, 174, 183, 175, 180, 171, 175, 180, 179, 188, 177, 176, 174, 174, 175, 173, 173, 176, 176, 183, 183, 176, 186, 196, 179, 192, 188, 192, 190, 181, 193, 190, 180, 192, 202, 193, 186, 186, 187, 187, 182, 185, 186, 179, 182, 199, 186, 190, 183, 183, 187, 191, 189, 182, 185, 181, 197, 198, 184, 189, 184, 191, 128, 83, 62, 0, 0, 0, 0, 0, 0, 0, 0, 0, 0, 0, 0, 0, 0, 0, 0, 0, 0, 0, 0, 0, 0, 0, 0, 0, 0, 0, 0, 0, 0, 0, 0, 0, 0, 0, 0, 0, 0, 0, 0, 0, 0, 0, 0, 43, 78, 73, 77, 71, 77, 77, 72, 76, 71, 78, 73, 80, 82, 95, 91, 97, 91, 93, 90, 85, 91, 91, 93, 101, 96, 85, 102, 93, 87, 99, 85, 93, 97, 77, 97, 86, 91, 90, 85, 94, 78, 96, 88, 90, 92, 87, 98, 84, 92, 93, 83, 104, 90, 91, 97, 88, 96, 92, 85, 101, 81, 97, 98, 82, 98, 87, 95, 116, 103, 106, 119, 107, 115, 116, 107, 113, 104, 106, 97, 98, 96, 97, 96, 95, 98, 96, 100, 93, 100, 95, 97, 98, 97, 95, 101, 97, 97, 101, 94, 100, 105, 108, 105, 105, 115, 126, 126, 125, 125, 127, 127, 128, 120, 124, 121, 123, 118, 119, 118, 117, 125, 118, 119, 118, 123, 117, 126, 117, 118, 117, 120, 117, 121, 119, 125, 121, 130, 132, 132, 141, 143, 132, 124, 127, 139, 130, 127, 123, 123, 135, 132, 109, 117, 118, 98, 122, 115, 108, 112, 98, 119, 99, 121, 106, 115, 104, 114, 118, 106, 125, 132, 133, 134, 134, 129, 125, 126, 140, 132, 124, 125, 133, 131, 132, 123, 144, 140, 144, 142, 135, 144, 135, 135, 147, 143, 149, 138, 144, 138, 144, 145, 147, 147, 146, 158, 153, 147, 144, 146, 136, 141, 132, 140, 143, 145, 149, 142, 141, 141, 136, 126, 141, 144, 146, 141, 136, 143, 134, 143, 152, 144, 149, 137, 140, 140, 136, 134, 142, 147, 138, 144, 138, 138, 136, 137, 146, 145, 149, 142, 147, 138, 141, 138, 149, 149, 158, 150, 149, 153, 151, 147, 150, 153, 138, 135, 128, 137, 136, 151, 129, 132, 124, 132, 134, 128, 122, 174, 147, 149, 149, 149, 153, 146, 153, 146, 151, 148, 153, 153, 152, 149, 151, 149, 152, 149, 153, 150, 156, 159, 155, 159, 157, 151, 159, 155, 157, 150, 154, 148, 149, 146, 155, 153, 152, 149, 166, 154, 159, 159, 158, 148, 153, 148, 156, 124, 123, 114, 116, 107, 112, 112, 110, 111, 103, 113, 118, 107, 104, 154, 150, 159, 149, 148, 148, 148, 157, 142, 146, 145, 154, 150, 152, 148, 148, 144, 150, 156, 153, 153, 150, 153, 152, 160, 164, 152, 157, 154, 156, 161, 162, 153, 168, 170, 162, 158, 152, 155, 155, 157, 168, 158, 160, 156, 156, 148, 137, 155, 151, 151, 154, 159, 143, 153, 148, 148, 142, 152, 148, 156, 153, 156, 159, 163, 157, 156, 152, 162, 160, 155, 155, 150, 142, 113, 92, 108, 92, 111, 86, 100, 86, 85, 110, 87, 109, 95, 125, 160, 144, 148, 149, 149, 163, 174, 159, 167, 167, 171, 163, 157, 159, 162, 171, 169, 168, 160, 170, 159, 165, 159, 156, 162, 154, 160, 163, 163, 160, 164, 163, 170, 164, 162, 167, 156, 170, 162, 165, 158, 156, 156, 155, 151, 159, 152, 160, 152, 157, 153, 159, 156, 156, 156, 159, 156, 162, 153, 140, 151, 145, 155, 160, 149, 157, 160, 160, 157, 141, 153, 153, 156, 157, 140, 152, 153, 156, 157, 148, 147, 151, 160, 154, 139, 134, 159, 150, 149, 138, 155, 157, 146, 159, 144, 160, 162, 153, 157, 150, 163, 165, 150, 108, 98, 91, 100, 95, 89, 86, 81, 66, 78, 74, 65, 24, 2, 0, 0, 0, 0, 0, 0, 0, 0, 0, 0, 0, 0, 0, 39, 83, 77, 77, 73, 78, 81, 82, 77, 76, 75, 71, 62, 58, 63, 65, 81, 77, 76, 68, 65, 75, 68, 69, 71, 66, 74, 58, 75, 74, 82, 81, 85, 85, 88, 81, 85, 80, 80, 80, 80, 85, 85, 84, 83, 85, 80, 84, 80, 87, 83, 91, 88, 86, 91, 83, 81, 81, 84, 81, 81, 79, 87, 81, 73, 73, 70, 75, 69, 64, 73, 65, 67, 68, 62, 73, 61, 68, 68, 58, 71, 72, 88, 84, 78, 73, 74, 74, 69, 57, 15, 0, 0]\n"
     ]
    }
   ],
   "source": [
    "power = extract_record_field(messages, 'power')\n",
    "print power"
   ]
  },
  {
   "cell_type": "code",
   "execution_count": 34,
   "metadata": {
    "collapsed": true
   },
   "outputs": [],
   "source": [
    "import matplotlib.pyplot as plt\n",
    "%matplotlib inline"
   ]
  },
  {
   "cell_type": "code",
   "execution_count": 35,
   "metadata": {
    "collapsed": false
   },
   "outputs": [
    {
     "name": "stdout",
     "output_type": "stream",
     "text": [
      "[ 338.    3.    1.    9.   78.   21.  127.  191.  242.  304.  313.  164.\n",
      "  120.  121.  146.  230.  267.  258.  392.  265.  167.  230.  202.  127.\n",
      "   81.   39.   34.   15.    6.    3.]\n",
      "[   0.            9.66666667   19.33333333   29.           38.66666667\n",
      "   48.33333333   58.           67.66666667   77.33333333   87.\n",
      "   96.66666667  106.33333333  116.          125.66666667  135.33333333\n",
      "  145.          154.66666667  164.33333333  174.          183.66666667\n",
      "  193.33333333  203.          212.66666667  222.33333333  232.\n",
      "  241.66666667  251.33333333  261.          270.66666667  280.33333333\n",
      "  290.        ]\n",
      "<a list of 30 Patch objects>\n"
     ]
    },
    {
     "data": {
      "image/png": "[encoded data removed]",
      "text/plain": [
       "<matplotlib.figure.Figure at 0x114d1d7d0>"
      ]
     },
     "metadata": {},
     "output_type": "display_data"
    }
   ],
   "source": [
    "n, bins, patches = plt.hist(power, 30, normed=0, facecolor='g', alpha=0.75)\n",
    "\n",
    "print n\n",
    "print bins\n",
    "print patches\n",
    "\n",
    "plt.xlabel('Power')\n",
    "plt.ylabel('Time')\n",
    "plt.title('Power Histogram')\n",
    "plt.axis([0, 300, 0, 400])\n",
    "plt.grid(True)\n",
    "plt.show()"
   ]
  },
  {
   "cell_type": "code",
   "execution_count": 36,
   "metadata": {
    "collapsed": false
   },
   "outputs": [
    {
     "data": {
      "image/png": "[encoded data removed]",
      "text/plain": [
       "<matplotlib.figure.Figure at 0x11a62e790>"
      ]
     },
     "metadata": {},
     "output_type": "display_data"
    }
   ],
   "source": [
    "hr = extract_record_field(messages, 'heart_rate')\n",
    "\n",
    "plt.hist(hr, 30, normed=0, facecolor='g', alpha=0.75)\n",
    "\n",
    "plt.xlabel('Heart Rate')\n",
    "plt.ylabel('Time')\n",
    "plt.title('Power Histogram')\n",
    "plt.axis([50, 250, 0, 300])\n",
    "plt.grid(True)\n",
    "plt.show()"
   ]
  },
  {
   "cell_type": "code",
   "execution_count": 37,
   "metadata": {
    "collapsed": true
   },
   "outputs": [],
   "source": [
    "def make_zone(name, low, high):\n",
    "    zone = {}\n",
    "    zone['Name'] = name\n",
    "    zone['Low'] = low\n",
    "    zone['High'] = high\n",
    "    \n",
    "    return zone"
   ]
  },
  {
   "cell_type": "code",
   "execution_count": 38,
   "metadata": {
    "collapsed": false
   },
   "outputs": [
    {
     "name": "stdout",
     "output_type": "stream",
     "text": [
      "{'High': 0.73, 'Name': 'EnduranceMiles', 'Low': 0.45}\n"
     ]
    }
   ],
   "source": [
    "em = make_zone('EnduranceMiles', 0.45, 0.73)\n",
    "print em"
   ]
  },
  {
   "cell_type": "code",
   "execution_count": 42,
   "metadata": {
    "collapsed": false
   },
   "outputs": [
    {
     "name": "stdout",
     "output_type": "stream",
     "text": [
      "[{'High': 0.73, 'Name': 'EnduranceMiles', 'Low': 0.45}, {'High': 0.85, 'Name': 'Tempo', 'Low': 0.8}, {'High': 0.9, 'Name': 'SteadyState', 'Low': 0.86}, {'High': 1.0, 'Name': 'ClimbingRepeat', 'Low': 0.95}, {'High': 10.0, 'Name': 'PowerInterval', 'Low': 1.01}]\n"
     ]
    }
   ],
   "source": [
    "training_zones = []\n",
    "training_zones.append(make_zone('EnduranceMiles', 0.45, 0.73))\n",
    "training_zones.append(make_zone('Tempo', 0.8, 0.85))\n",
    "training_zones.append(make_zone('SteadyState', 0.86, 0.90))\n",
    "training_zones.append(make_zone('ClimbingRepeat', 0.95, 1.0))\n",
    "training_zones.append(make_zone('PowerInterval', 1.01, 10.0))\n",
    "\n",
    "print training_zones"
   ]
  },
  {
   "cell_type": "code",
   "execution_count": 39,
   "metadata": {
    "collapsed": true
   },
   "outputs": [],
   "source": [
    "def calculate_zone(field_test_power, zone):\n",
    "    czone = {}\n",
    "    czone['Name'] = zone['Name']\n",
    "    czone['Low'] = int(round(zone['Low']*field_test_power))\n",
    "    czone['High'] = int(round(zone['High']*field_test_power))\n",
    "    return czone"
   ]
  },
  {
   "cell_type": "code",
   "execution_count": 40,
   "metadata": {
    "collapsed": false
   },
   "outputs": [
    {
     "name": "stdout",
     "output_type": "stream",
     "text": [
      "{'High': 155, 'Name': 'EnduranceMiles', 'Low': 96}\n",
      "{'High': 0.73, 'Name': 'EnduranceMiles', 'Low': 0.45}\n"
     ]
    }
   ],
   "source": [
    "print calculate_zone(213,em)\n",
    "print em"
   ]
  },
  {
   "cell_type": "code",
   "execution_count": 43,
   "metadata": {
    "collapsed": true
   },
   "outputs": [],
   "source": [
    "def power_training_intensities(field_test_power):\n",
    "    i = []\n",
    "    for z in training_zones:\n",
    "        i.append(calculate_zone(field_test_power,z))\n",
    "        \n",
    "    return i\n",
    "    \n",
    "    "
   ]
  },
  {
   "cell_type": "code",
   "execution_count": 45,
   "metadata": {
    "collapsed": false
   },
   "outputs": [
    {
     "name": "stdout",
     "output_type": "stream",
     "text": [
      "EnduranceMiles: 96 - 155\n",
      "Tempo: 170 - 181\n",
      "SteadyState: 183 - 192\n",
      "ClimbingRepeat: 202 - 213\n",
      "PowerInterval: 215 - 2130\n"
     ]
    }
   ],
   "source": [
    "my_intensities = power_training_intensities(213)\n",
    "for i in my_intensities:\n",
    "    print '{}: {} - {}'.format(i['Name'],i['Low'],i['High'])"
   ]
  },
  {
   "cell_type": "code",
   "execution_count": null,
   "metadata": {
    "collapsed": true
   },
   "outputs": [],
   "source": []
  }
 ],
 "metadata": {
  "kernelspec": {
   "display_name": "Python 2",
   "language": "python",
   "name": "python2"
  },
  "language_info": {
   "codemirror_mode": {
    "name": "ipython",
    "version": 2
   },
   "file_extension": ".py",
   "mimetype": "text/x-python",
   "name": "python",
   "nbconvert_exporter": "python",
   "pygments_lexer": "ipython2",
   "version": "2.7.12"
  }
 },
 "nbformat": 4,
 "nbformat_minor": 0
}
