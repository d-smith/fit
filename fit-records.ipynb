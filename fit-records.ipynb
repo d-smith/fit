{
 "cells": [
  {
   "cell_type": "code",
   "execution_count": null,
   "metadata": {
    "collapsed": true
   },
   "outputs": [],
   "source": [
    "from fitparse import FitFile"
   ]
  },
  {
   "cell_type": "code",
   "execution_count": null,
   "metadata": {
    "collapsed": true
   },
   "outputs": [],
   "source": [
    "fitfile = FitFile('./2017-11-03-15-58-49.fit')"
   ]
  },
  {
   "cell_type": "code",
   "execution_count": null,
   "metadata": {
    "collapsed": true
   },
   "outputs": [],
   "source": [
    "fitfile.parse()"
   ]
  },
  {
   "cell_type": "code",
   "execution_count": null,
   "metadata": {
    "collapsed": false
   },
   "outputs": [],
   "source": [
    "messages = fitfile.messages\n",
    "print '{} messages'.format(len(messages))"
   ]
  },
  {
   "cell_type": "code",
   "execution_count": null,
   "metadata": {
    "collapsed": false
   },
   "outputs": [],
   "source": [
    "for i in range(0,10):\n",
    "    msg = messages[i]\n",
    "    print 'message no. {}'.format(i)\n",
    "    print msg.name\n",
    "    print msg.get_values()"
   ]
  },
  {
   "cell_type": "code",
   "execution_count": null,
   "metadata": {
    "collapsed": false
   },
   "outputs": [],
   "source": [
    "field_samples = {}\n",
    "for msg in messages:    \n",
    "    field_samples[msg.name] = msg\n",
    "    \n",
    "print field_samples "
   ]
  },
  {
   "cell_type": "code",
   "execution_count": null,
   "metadata": {
    "collapsed": false
   },
   "outputs": [],
   "source": [
    "for k in field_samples:\n",
    "    print 'Message type: {}'.format(k)\n",
    "    print field_samples[k].get_values()\n",
    "    print ''"
   ]
  },
  {
   "cell_type": "code",
   "execution_count": null,
   "metadata": {
    "collapsed": false
   },
   "outputs": [],
   "source": [
    "field_counts = {}\n",
    "for msg in messages:\n",
    "    if msg.name in field_counts:\n",
    "        count = field_counts[msg.name]\n",
    "        field_counts[msg.name] = count + 1\n",
    "    else:\n",
    "        field_counts[msg.name] = 1\n"
   ]
  },
  {
   "cell_type": "code",
   "execution_count": null,
   "metadata": {
    "collapsed": false
   },
   "outputs": [],
   "source": [
    "for k in field_counts:\n",
    "    print 'record type: {}, count: {}'.format(k, field_counts[k])"
   ]
  },
  {
   "cell_type": "code",
   "execution_count": null,
   "metadata": {
    "collapsed": false
   },
   "outputs": [],
   "source": [
    "# Show the file type is activity - see section 9 in the FIT file doc for details\n",
    "fid = field_samples['file_id']\n",
    "print fid.get_value('type')"
   ]
  },
  {
   "cell_type": "code",
   "execution_count": null,
   "metadata": {
    "collapsed": false
   },
   "outputs": [],
   "source": [
    "# Show the activity\n",
    "activity = field_samples['activity']\n",
    "print activity.get_values()"
   ]
  },
  {
   "cell_type": "code",
   "execution_count": null,
   "metadata": {
    "collapsed": false
   },
   "outputs": [],
   "source": [
    "# Dump all 'non-record' records\n",
    "for msg in messages:\n",
    "    if msg.name != 'record' and msg.name != 'unknown_22':\n",
    "        print 'Message type: {}'.format(msg.name)\n",
    "        print msg.get_values()\n",
    "        print ''"
   ]
  },
  {
   "cell_type": "code",
   "execution_count": null,
   "metadata": {
    "collapsed": false
   },
   "outputs": [],
   "source": [
    "# Next - extract session start, session end, laps\n",
    "for msg in messages:\n",
    "    if msg.name == 'session' or msg.name == 'lap' or msg.name == 'event':\n",
    "        print 'Message type: {}'.format(msg.name)\n",
    "        print msg.get_values()\n",
    "        print ''"
   ]
  },
  {
   "cell_type": "code",
   "execution_count": null,
   "metadata": {
    "collapsed": false
   },
   "outputs": [],
   "source": [
    "# Get laps\n",
    "laps = []\n",
    "for msg in messages:\n",
    "    if msg.name == 'lap':\n",
    "        laps.append(msg)\n",
    "        \n",
    "start_times = map(lambda x:x.get_value('start_time'), laps)\n",
    "print start_times"
   ]
  },
  {
   "cell_type": "code",
   "execution_count": null,
   "metadata": {
    "collapsed": false
   },
   "outputs": [],
   "source": [
    "print laps[0].get_values()\n",
    "\n",
    "lap_time_sum = 0\n",
    "for lap in laps:\n",
    "    lap_time_sum += lap.get_value('total_timer_time')\n",
    "    \n",
    "print lap_time_sum\n",
    "print lap_time_sum/60"
   ]
  },
  {
   "cell_type": "code",
   "execution_count": null,
   "metadata": {
    "collapsed": false
   },
   "outputs": [],
   "source": [
    "# Slicing arrays in python\n",
    "foo = [0,1,2,3,4,5]\n",
    "print foo[:2]\n",
    "print foo[0:2]\n",
    "print foo[3:5]\n"
   ]
  },
  {
   "cell_type": "code",
   "execution_count": null,
   "metadata": {
    "collapsed": true
   },
   "outputs": [],
   "source": [
    "def records_by_lap(messages, lap_no):\n",
    "    laps_found = 0\n",
    "    last_idx = 0\n",
    "    idx = 0\n",
    "    for msg in messages:\n",
    "        if msg.name == 'lap':\n",
    "            laps_found += 1\n",
    "            print 'lap {} found at {}'.format(laps_found, idx)\n",
    "            \n",
    "        idx += 1\n",
    "        \n",
    "        \n",
    "    "
   ]
  },
  {
   "cell_type": "code",
   "execution_count": null,
   "metadata": {
    "collapsed": false
   },
   "outputs": [],
   "source": [
    "records_by_lap(messages, 1)"
   ]
  },
  {
   "cell_type": "code",
   "execution_count": null,
   "metadata": {
    "collapsed": true
   },
   "outputs": [],
   "source": []
  }
 ],
 "metadata": {
  "kernelspec": {
   "display_name": "Python 2",
   "language": "python",
   "name": "python2"
  },
  "language_info": {
   "codemirror_mode": {
    "name": "ipython",
    "version": 2
   },
   "file_extension": ".py",
   "mimetype": "text/x-python",
   "name": "python",
   "nbconvert_exporter": "python",
   "pygments_lexer": "ipython2",
   "version": "2.7.12"
  }
 },
 "nbformat": 4,
 "nbformat_minor": 0
}
