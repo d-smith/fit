{
 "cells": [
  {
   "cell_type": "code",
   "execution_count": null,
   "metadata": {
    "collapsed": true
   },
   "outputs": [],
   "source": [
    "from fitparse import FitFile"
   ]
  },
  {
   "cell_type": "code",
   "execution_count": null,
   "metadata": {
    "collapsed": true
   },
   "outputs": [],
   "source": [
    "fitfile = FitFile('./2017-11-03-15-58-49.fit')"
   ]
  },
  {
   "cell_type": "code",
   "execution_count": null,
   "metadata": {
    "collapsed": true
   },
   "outputs": [],
   "source": [
    "fitfile.parse()"
   ]
  },
  {
   "cell_type": "code",
   "execution_count": null,
   "metadata": {
    "collapsed": false
   },
   "outputs": [],
   "source": [
    "messages = fitfile.messages\n",
    "print '{} messages'.format(len(messages))"
   ]
  },
  {
   "cell_type": "code",
   "execution_count": null,
   "metadata": {
    "collapsed": false
   },
   "outputs": [],
   "source": [
    "for i in range(0,10):\n",
    "    msg = messages[i]\n",
    "    print 'message no. {}'.format(i)\n",
    "    print msg.name\n",
    "    print msg.get_values()"
   ]
  },
  {
   "cell_type": "code",
   "execution_count": null,
   "metadata": {
    "collapsed": false
   },
   "outputs": [],
   "source": [
    "field_samples = {}\n",
    "for msg in messages:    \n",
    "    field_samples[msg.name] = msg\n",
    "    \n",
    "print field_samples "
   ]
  },
  {
   "cell_type": "code",
   "execution_count": null,
   "metadata": {
    "collapsed": false
   },
   "outputs": [],
   "source": [
    "for k in field_samples:\n",
    "    print 'Message type: {}'.format(k)\n",
    "    print field_samples[k].get_values()\n",
    "    print ''"
   ]
  },
  {
   "cell_type": "code",
   "execution_count": null,
   "metadata": {
    "collapsed": false
   },
   "outputs": [],
   "source": [
    "field_counts = {}\n",
    "for msg in messages:\n",
    "    if msg.name in field_counts:\n",
    "        count = field_counts[msg.name]\n",
    "        field_counts[msg.name] = count + 1\n",
    "    else:\n",
    "        field_counts[msg.name] = 1\n"
   ]
  },
  {
   "cell_type": "code",
   "execution_count": null,
   "metadata": {
    "collapsed": false
   },
   "outputs": [],
   "source": [
    "for k in field_counts:\n",
    "    print 'record type: {}, count: {}'.format(k, field_counts[k])"
   ]
  },
  {
   "cell_type": "code",
   "execution_count": null,
   "metadata": {
    "collapsed": false
   },
   "outputs": [],
   "source": [
    "# Show the file type is activity - see section 9 in the FIT file doc for details\n",
    "fid = field_samples['file_id']\n",
    "print fid.get_value('type')"
   ]
  },
  {
   "cell_type": "code",
   "execution_count": null,
   "metadata": {
    "collapsed": false
   },
   "outputs": [],
   "source": [
    "# Show the activity\n",
    "activity = field_samples['activity']\n",
    "print activity.get_values()"
   ]
  },
  {
   "cell_type": "code",
   "execution_count": null,
   "metadata": {
    "collapsed": false
   },
   "outputs": [],
   "source": [
    "# Dump all 'non-record' records\n",
    "for msg in messages:\n",
    "    if msg.name != 'record' and msg.name != 'unknown_22':\n",
    "        print 'Message type: {}'.format(msg.name)\n",
    "        print msg.get_values()\n",
    "        print ''"
   ]
  },
  {
   "cell_type": "code",
   "execution_count": null,
   "metadata": {
    "collapsed": false
   },
   "outputs": [],
   "source": [
    "# Next - extract session start, session end, laps\n",
    "for msg in messages:\n",
    "    if msg.name == 'session' or msg.name == 'lap' or msg.name == 'event':\n",
    "        print 'Message type: {}'.format(msg.name)\n",
    "        print msg.get_values()\n",
    "        print ''"
   ]
  },
  {
   "cell_type": "code",
   "execution_count": null,
   "metadata": {
    "collapsed": false
   },
   "outputs": [],
   "source": [
    "# Get laps\n",
    "laps = []\n",
    "for msg in messages:\n",
    "    if msg.name == 'lap':\n",
    "        laps.append(msg)\n",
    "        \n",
    "start_times = map(lambda x:x.get_value('start_time'), laps)\n",
    "print start_times"
   ]
  },
  {
   "cell_type": "code",
   "execution_count": null,
   "metadata": {
    "collapsed": false
   },
   "outputs": [],
   "source": [
    "print laps[0].get_values()\n",
    "\n",
    "lap_time_sum = 0\n",
    "for lap in laps:\n",
    "    lap_time_sum += lap.get_value('total_timer_time')\n",
    "    \n",
    "print lap_time_sum\n",
    "print lap_time_sum/60"
   ]
  },
  {
   "cell_type": "code",
   "execution_count": null,
   "metadata": {
    "collapsed": false
   },
   "outputs": [],
   "source": [
    "# Slicing arrays in python\n",
    "foo = [0,1,2,3,4,5]\n",
    "print foo[:2]\n",
    "print foo[0:2]\n",
    "print foo[3:5]\n"
   ]
  },
  {
   "cell_type": "code",
   "execution_count": null,
   "metadata": {
    "collapsed": true
   },
   "outputs": [],
   "source": [
    "def records_by_lap(messages, lap_no):\n",
    "    lap_records=[]\n",
    "    laps_found = 0\n",
    "    last_idx = 0\n",
    "    idx = 0\n",
    "    lap_records.append([])\n",
    "    for msg in messages:\n",
    "        lap_records[laps_found].append(msg)\n",
    "        if msg.name == 'lap':\n",
    "            laps_found += 1\n",
    "            lap_records.append([])\n",
    "            print 'lap {} found at {}'.format(laps_found, idx)\n",
    "            \n",
    "        idx += 1\n",
    "        \n",
    "    return lap_records\n",
    "        \n",
    "    "
   ]
  },
  {
   "cell_type": "code",
   "execution_count": null,
   "metadata": {
    "collapsed": false
   },
   "outputs": [],
   "source": [
    "rbl = records_by_lap(messages, 1)\n",
    "print len(rbl)"
   ]
  },
  {
   "cell_type": "code",
   "execution_count": null,
   "metadata": {
    "collapsed": false
   },
   "outputs": [],
   "source": [
    "print filter(lambda x:x != None, map(lambda x:x.get_value('heart_rate'), rbl[0]))"
   ]
  },
  {
   "cell_type": "code",
   "execution_count": null,
   "metadata": {
    "collapsed": false
   },
   "outputs": [],
   "source": [
    "import numpy as np\n",
    "print int(round(np.average(filter(lambda x:x != None, map(lambda x:x.get_value('heart_rate'), rbl[0])))))"
   ]
  },
  {
   "cell_type": "code",
   "execution_count": null,
   "metadata": {
    "collapsed": true
   },
   "outputs": [],
   "source": [
    "import numpy as np\n",
    "\n",
    "def average_val_for_field(records, field_name):\n",
    "    fields = map(lambda x:x.get_value(field_name), records)\n",
    "    fields_with_vals = filter(lambda x:x != None, fields)\n",
    "    avg = int(round(np.average(fields_with_vals)))\n",
    "    return avg"
   ]
  },
  {
   "cell_type": "code",
   "execution_count": null,
   "metadata": {
    "collapsed": false
   },
   "outputs": [],
   "source": [
    "print laps[0].get_value('avg_heart_rate')"
   ]
  },
  {
   "cell_type": "code",
   "execution_count": null,
   "metadata": {
    "collapsed": false
   },
   "outputs": [],
   "source": [
    "print average_val_for_field(rbl[0], 'heart_rate')\n",
    "print average_val_for_field(rbl[0], 'power')"
   ]
  },
  {
   "cell_type": "code",
   "execution_count": null,
   "metadata": {
    "collapsed": true
   },
   "outputs": [],
   "source": [
    "import pandas as pd"
   ]
  },
  {
   "cell_type": "code",
   "execution_count": null,
   "metadata": {
    "collapsed": false
   },
   "outputs": [],
   "source": [
    "s = pd.Series(map(lambda x:x.get_value('power'), filter(lambda x:x.name=='record',rbl[0])))\n",
    "print s"
   ]
  },
  {
   "cell_type": "code",
   "execution_count": null,
   "metadata": {
    "collapsed": false
   },
   "outputs": [],
   "source": [
    "print type(s)\n",
    "s.describe()"
   ]
  },
  {
   "cell_type": "code",
   "execution_count": null,
   "metadata": {
    "collapsed": false
   },
   "outputs": [],
   "source": [
    "rolling_means = s.rolling(window=30,center=False).mean()[31:]\n",
    "print type(rolling_means)"
   ]
  },
  {
   "cell_type": "code",
   "execution_count": null,
   "metadata": {
    "collapsed": false
   },
   "outputs": [],
   "source": [
    "from math import pow\n",
    "\n",
    "rmp = rolling_means.map(lambda x:pow(x,4))"
   ]
  },
  {
   "cell_type": "code",
   "execution_count": null,
   "metadata": {
    "collapsed": false
   },
   "outputs": [],
   "source": [
    "print rmp.mean()"
   ]
  },
  {
   "cell_type": "code",
   "execution_count": null,
   "metadata": {
    "collapsed": false
   },
   "outputs": [],
   "source": [
    "np = rmp.mean()**(1/float(4))"
   ]
  },
  {
   "cell_type": "code",
   "execution_count": null,
   "metadata": {
    "collapsed": false
   },
   "outputs": [],
   "source": [
    "print int(round(np))\n",
    "print laps[0].get_value('normalized_power')"
   ]
  },
  {
   "cell_type": "code",
   "execution_count": null,
   "metadata": {
    "collapsed": false
   },
   "outputs": [],
   "source": [
    "def extract_record_field(messages, field):\n",
    "    #Get records\n",
    "    records = filter(lambda m:m.name=='record', messages)\n",
    "    fields = map(lambda r:r.get_value(field), records)\n",
    "    return filter(lambda f:f != None, fields)"
   ]
  },
  {
   "cell_type": "code",
   "execution_count": null,
   "metadata": {
    "collapsed": false
   },
   "outputs": [],
   "source": [
    "power = extract_record_field(messages, 'power')\n",
    "print power"
   ]
  },
  {
   "cell_type": "code",
   "execution_count": null,
   "metadata": {
    "collapsed": true
   },
   "outputs": [],
   "source": [
    "import matplotlib.pyplot as plt\n",
    "%matplotlib inline"
   ]
  },
  {
   "cell_type": "code",
   "execution_count": null,
   "metadata": {
    "collapsed": false
   },
   "outputs": [],
   "source": [
    "n, bins, patches = plt.hist(power, 30, normed=0, facecolor='g', alpha=0.75)\n",
    "\n",
    "print n\n",
    "print bins\n",
    "print patches\n",
    "\n",
    "plt.xlabel('Power')\n",
    "plt.ylabel('Time')\n",
    "plt.title('Power Histogram')\n",
    "plt.axis([0, 300, 0, 400])\n",
    "plt.grid(True)\n",
    "plt.show()"
   ]
  },
  {
   "cell_type": "code",
   "execution_count": null,
   "metadata": {
    "collapsed": false
   },
   "outputs": [],
   "source": [
    "hr = extract_record_field(messages, 'heart_rate')\n",
    "\n",
    "plt.hist(hr, 30, normed=0, facecolor='g', alpha=0.75)\n",
    "\n",
    "plt.xlabel('Heart Rate')\n",
    "plt.ylabel('Time')\n",
    "plt.title('Power Histogram')\n",
    "plt.axis([50, 250, 0, 300])\n",
    "plt.grid(True)\n",
    "plt.show()"
   ]
  },
  {
   "cell_type": "code",
   "execution_count": null,
   "metadata": {
    "collapsed": true
   },
   "outputs": [],
   "source": [
    "def make_zone(name, low, high):\n",
    "    zone = {}\n",
    "    zone['Name'] = name\n",
    "    zone['Low'] = low\n",
    "    zone['High'] = high\n",
    "    \n",
    "    return zone"
   ]
  },
  {
   "cell_type": "code",
   "execution_count": null,
   "metadata": {
    "collapsed": false
   },
   "outputs": [],
   "source": [
    "em = make_zone('EnduranceMiles', 0.45, 0.73)\n",
    "print em"
   ]
  },
  {
   "cell_type": "code",
   "execution_count": null,
   "metadata": {
    "collapsed": true
   },
   "outputs": [],
   "source": [
    "def calculate_zone(field_test_power, zone):\n",
    "    czone = {}\n",
    "    czone['Name'] = zone['Name']\n",
    "    czone['Low'] = int(round(zone['Low']*field_test_power))\n",
    "    czone['High'] = int(round(zone['High']*field_test_power))\n",
    "    return czone"
   ]
  },
  {
   "cell_type": "code",
   "execution_count": null,
   "metadata": {
    "collapsed": false
   },
   "outputs": [],
   "source": [
    "print calculate_zone(213,em)\n",
    "print em"
   ]
  },
  {
   "cell_type": "code",
   "execution_count": null,
   "metadata": {
    "collapsed": true
   },
   "outputs": [],
   "source": [
    "def power_training_intensities(field_test_power):\n",
    "    i = {}\n",
    "    \n",
    "    "
   ]
  }
 ],
 "metadata": {
  "kernelspec": {
   "display_name": "Python 2",
   "language": "python",
   "name": "python2"
  },
  "language_info": {
   "codemirror_mode": {
    "name": "ipython",
    "version": 2
   },
   "file_extension": ".py",
   "mimetype": "text/x-python",
   "name": "python",
   "nbconvert_exporter": "python",
   "pygments_lexer": "ipython2",
   "version": "2.7.12"
  }
 },
 "nbformat": 4,
 "nbformat_minor": 0
}
